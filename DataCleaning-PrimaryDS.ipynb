{
 "cells": [
  {
   "cell_type": "markdown",
   "id": "53b6ba9e-3673-45a7-9006-1b7a6901ecdd",
   "metadata": {},
   "source": [
    "# **Data Cleaning for Primary Dataset (\"Hydra-Movie-Scrape.csv\")**"
   ]
  },
  {
   "cell_type": "code",
   "execution_count": null,
   "id": "ad8edb2e-a1f6-40f9-b0bd-536aa4f24b9d",
   "metadata": {},
   "outputs": [],
   "source": []
  },
  {
   "cell_type": "markdown",
   "id": "c7e3bec4-88c9-4a85-aa01-c301be4f428f",
   "metadata": {},
   "source": [
    "**Import CSV and apply encoding to handle characters from multiple languages in dataset**"
   ]
  },
  {
   "cell_type": "code",
   "execution_count": 2,
   "id": "75020702-a48a-4d35-a929-88d1eafed8fb",
   "metadata": {
    "execution": {
     "iopub.execute_input": "2024-08-07T02:54:37.481341Z",
     "iopub.status.busy": "2024-08-07T02:54:37.480345Z",
     "iopub.status.idle": "2024-08-07T02:54:39.195929Z",
     "shell.execute_reply": "2024-08-07T02:54:39.195929Z",
     "shell.execute_reply.started": "2024-08-07T02:54:37.481341Z"
    }
   },
   "outputs": [
    {
     "name": "stdout",
     "output_type": "stream",
     "text": [
      "                                                Title  Year  \\\n",
      "0                         Patton Oswalt: Annihilation  2017   \n",
      "1                                       New York Doll  2005   \n",
      "2   Mickey's Magical Christmas: Snowed in at the H...  2001   \n",
      "3                          Mickey's House of Villains  2001   \n",
      "4                                       And Then I Go  2017   \n",
      "5                            An Extremely Goofy Movie  2000   \n",
      "6                                        Peter Rabbit  2018   \n",
      "7                                          Love Songs  2007   \n",
      "8                                                  89  2017   \n",
      "9                                      The Foster Boy  2011   \n",
      "10                                    Forever My Girl  2018   \n",
      "11                            Tom Segura: Disgraceful  2018   \n",
      "12      The Secret Rules of Modern Living: Algorithms  2015   \n",
      "13                                Secrets in the Fall  2015   \n",
      "14                                       Silent Night  2017   \n",
      "\n",
      "                                              Summary  \\\n",
      "0   Patton Oswald, despite a personal tragedy, pro...   \n",
      "1   A recovering alcoholic and recently converted ...   \n",
      "2   After everyone is snowed in at the House of Mo...   \n",
      "3   The villains from the popular animated Disney ...   \n",
      "4   In the cruel world of junior high, Edwin suffe...   \n",
      "5   It's a big time in Max's life. He's college bo...   \n",
      "6   Based on the books by Beatrix Potter: Peter Ra...   \n",
      "7   Julie's boyfriend Ismaël lives with her; rathe...   \n",
      "8   89 tells the incredible story of one of footba...   \n",
      "9   The illegitimate orphan child, 12-year-old Max...   \n",
      "10  After being gone for a decade a country star r...   \n",
      "11  Comedian Tom Segura rants about funny things a...   \n",
      "12  Professor Marcus du Sautoy demystifies the hid...   \n",
      "13  Nothing is impossible for a group of young cam...   \n",
      "14  Adam unexpectedly visits his family house at C...   \n",
      "\n",
      "                                        Short Summary  \\\n",
      "0   Patton Oswalt, despite a personal tragedy, pro...   \n",
      "1   A recovering alcoholic and recently converted ...   \n",
      "2   Mickey and all his friends hold their own Chri...   \n",
      "3   The villains from the popular animated Disney ...   \n",
      "4   In the cruel world of junior high, Edwin suffe...   \n",
      "5   Max goes to college, but to his embarassment h...   \n",
      "6   Feature adaptation of Beatrix Potter's classic...   \n",
      "7   A musical interpretation of three lovers livin...   \n",
      "8   The true story of a sporting miracle, when Ars...   \n",
      "9   A Swiss-German rural peasant family takes Max,...   \n",
      "10  After being gone for a decade a country star r...   \n",
      "11  Comedian Tom Segura rants about funny things a...   \n",
      "12  Professor Marcus du Sautoy demystifies the hid...   \n",
      "13  Nothing is impossible for a group of young cam...   \n",
      "14  Adam unexpectedly visits his family house at C...   \n",
      "\n",
      "                                       Genres    IMDB ID  Runtime  \\\n",
      "0                               Uncategorized  tt7026230       66   \n",
      "1                           Documentary|Music  tt0436629       75   \n",
      "2   Adventure|Animation|Comedy|Family|Fantasy  tt0300195       65   \n",
      "3      Animation|Comedy|Family|Fantasy|Horror  tt0329374        0   \n",
      "4                                       Drama  tt2018111       99   \n",
      "5               Animation|Comedy|Family|Sport  tt0208185       79   \n",
      "6   Adventure|Animation|Comedy|Family|Fantasy  tt5117670       95   \n",
      "7                               Uncategorized  tt0996605       91   \n",
      "8                               Uncategorized  tt7614404       91   \n",
      "9                                       Drama  tt2057931      107   \n",
      "10                        Drama|Music|Romance  tt4103724      108   \n",
      "11                         Comedy|Documentary  tt7379330        0   \n",
      "12                                Documentary  tt5818010       58   \n",
      "13                                     Family  tt2522908        0   \n",
      "14                               Comedy|Drama  tt7133554      100   \n",
      "\n",
      "   YouTube Trailer  Rating                                       Movie Poster  \\\n",
      "0      4hZi5QaMBFc     7.4  https://hydramovies.com/wp-content/uploads/201...   \n",
      "1      jwD04NsnLLg     7.9  https://hydramovies.com/wp-content/uploads/201...   \n",
      "2      uCKwHHftrU4     6.8  https://hydramovies.com/wp-content/uploads/201...   \n",
      "3      JA03ciYt-Ek     6.6  https://hydramovies.com/wp-content/uploads/201...   \n",
      "4      8CdIiD6-iF0     7.6  https://hydramovies.com/wp-content/uploads/201...   \n",
      "5      H8oSvldAGfg     6.4  https://hydramovies.com/wp-content/uploads/201...   \n",
      "6      7Pa_Weidt08     6.6  https://hydramovies.com/wp-content/uploads/201...   \n",
      "7      s54vpKAFmS0     7.2  https://hydramovies.com/wp-content/uploads/201...   \n",
      "8      5hfAExhHTMM     8.1  https://hydramovies.com/wp-content/uploads/201...   \n",
      "9      E9Qv_XVJ-js     7.4  https://hydramovies.com/wp-content/uploads/201...   \n",
      "10     3vqcMr1q5Uc     6.4  https://hydramovies.com/wp-content/uploads/201...   \n",
      "11     kYYINJM3lPA     7.5  https://hydramovies.com/wp-content/uploads/201...   \n",
      "12     hpyxmT6KSvw     7.5  https://hydramovies.com/wp-content/uploads/201...   \n",
      "13     eMVw1pHVMAw     7.3  https://hydramovies.com/wp-content/uploads/201...   \n",
      "14     cA6BUYVkQoE     7.5  https://hydramovies.com/wp-content/uploads/201...   \n",
      "\n",
      "               Director               Writers  \\\n",
      "0     Bobcat Goldthwait         Patton Oswalt   \n",
      "1         Greg Whiteley           Arthur Kane   \n",
      "2            Tony Craig           Thomas Hart   \n",
      "3        Jamie Mitchell           Thomas Hart   \n",
      "4       Vincent Grashaw           Brett Haley   \n",
      "5      Douglas McCarthy  Scott Spencer Gorden   \n",
      "6            Will Gluck            Rob Lieber   \n",
      "7     Christophe Honoré     Christophe Honoré   \n",
      "8          Dave Stewart             Lee Dixon   \n",
      "9        Markus Imboden       Plinio Bachmann   \n",
      "10  Bethany Ashton Wolf   Bethany Ashton Wolf   \n",
      "11            Jay Karas            Tom Segura   \n",
      "12         David Briggs      Marcus du Sautoy   \n",
      "13     Brittany Goodwin      Brittany Goodwin   \n",
      "14     Piotr Domalewski      Piotr Domalewski   \n",
      "\n",
      "                                                Cast  \n",
      "0                                      Patton Oswalt  \n",
      "1                                    Sylvain Sylvain  \n",
      "2                     Carlos Alazraqui|Wayne Allwine  \n",
      "3                         Tony Anselmo|Wayne Allwine  \n",
      "4                           Arman Darbo|Sawyer Barth  \n",
      "5             Bill Farmer|Jason Marsden|Jeff Bennett  \n",
      "6                         Fayssal Bazzi|James Corden  \n",
      "7       Clotilde Hesme|Louis Garrel|Ludivine Sagnier  \n",
      "8                                         Ian Wright  \n",
      "9   Katja Riemann|Maximilian Simonischek|Stefan Kurt  \n",
      "10         Abby Ryder Fortson|Alex Roe|Jessica Rothe  \n",
      "11                                        Tom Segura  \n",
      "12                                               NaN  \n",
      "13           Hollie Shay|Kyle Kupecky|Vincent Seidle  \n",
      "14    Agnieszka Suchora|Dawid Ogrodnik|Tomasz Zietek  \n"
     ]
    }
   ],
   "source": [
    "import numpy as np\n",
    "import pandas as pd\n",
    "import chardet\n",
    "import scipy.stats as stats\n",
    "\n",
    "# Load the dataset\n",
    "file_path = 'Hydra-Movie-Scrape.csv'\n",
    "\n",
    "# Read file in binary to detect the encoding\n",
    "with open(file_path, 'rb') as file:\n",
    "    raw_data = file.read(100000)  # Read only the first 100,000 bytes or we risk exceeding data rate limit\n",
    "\n",
    "# Detect the encoding used\n",
    "result = chardet.detect(raw_data)\n",
    "encoding = result['encoding']\n",
    "\n",
    "# Load the CSV file and apply the detected encoding\n",
    "df = pd.read_csv(file_path, encoding=encoding)\n",
    "\n",
    "# Examine the dataset to identify columns with missing values and outliers.\n",
    "# Display the first few rows of the pandas dataframe\n",
    "print(df.head(15))\n"
   ]
  },
  {
   "cell_type": "code",
   "execution_count": null,
   "id": "5b5c3f97-7fb6-4795-8df3-56cfe298d084",
   "metadata": {},
   "outputs": [],
   "source": []
  },
  {
   "cell_type": "code",
   "execution_count": 3,
   "id": "b268d0c5-7bd8-49ea-b48d-d5cf9f1fb370",
   "metadata": {
    "execution": {
     "iopub.execute_input": "2024-08-07T02:54:42.214532Z",
     "iopub.status.busy": "2024-08-07T02:54:42.213532Z",
     "iopub.status.idle": "2024-08-07T02:54:42.224024Z",
     "shell.execute_reply": "2024-08-07T02:54:42.223501Z",
     "shell.execute_reply.started": "2024-08-07T02:54:42.214532Z"
    }
   },
   "outputs": [
    {
     "name": "stdout",
     "output_type": "stream",
     "text": [
      "<class 'pandas.core.frame.DataFrame'>\n",
      "RangeIndex: 3940 entries, 0 to 3939\n",
      "Data columns (total 13 columns):\n",
      " #   Column           Non-Null Count  Dtype  \n",
      "---  ------           --------------  -----  \n",
      " 0   Title            3940 non-null   object \n",
      " 1   Year             3940 non-null   int64  \n",
      " 2   Summary          3935 non-null   object \n",
      " 3   Short Summary    3939 non-null   object \n",
      " 4   Genres           3940 non-null   object \n",
      " 5   IMDB ID          3940 non-null   object \n",
      " 6   Runtime          3940 non-null   int64  \n",
      " 7   YouTube Trailer  3893 non-null   object \n",
      " 8   Rating           3940 non-null   float64\n",
      " 9   Movie Poster     3940 non-null   object \n",
      " 10  Director         3940 non-null   object \n",
      " 11  Writers          3922 non-null   object \n",
      " 12  Cast             3916 non-null   object \n",
      "dtypes: float64(1), int64(2), object(10)\n",
      "memory usage: 400.3+ KB\n"
     ]
    }
   ],
   "source": [
    "# Display info about the dataframe\n",
    "df.info()"
   ]
  },
  {
   "cell_type": "code",
   "execution_count": null,
   "id": "3cc4bff8-cc13-45f3-8970-4fdfa79bcb70",
   "metadata": {},
   "outputs": [],
   "source": []
  },
  {
   "cell_type": "markdown",
   "id": "afdc1ae3-7ab7-4b10-bc87-25dfc0127af9",
   "metadata": {},
   "source": [
    "**Handle Missing Data**"
   ]
  },
  {
   "cell_type": "code",
   "execution_count": 4,
   "id": "fba15ebd-32a6-46b9-9a5d-eb6328494f46",
   "metadata": {
    "execution": {
     "iopub.execute_input": "2024-08-07T02:54:47.468607Z",
     "iopub.status.busy": "2024-08-07T02:54:47.468607Z",
     "iopub.status.idle": "2024-08-07T02:54:47.474615Z",
     "shell.execute_reply": "2024-08-07T02:54:47.474615Z",
     "shell.execute_reply.started": "2024-08-07T02:54:47.468607Z"
    }
   },
   "outputs": [
    {
     "name": "stdout",
     "output_type": "stream",
     "text": [
      "\n",
      "Percentage Missing Values:\n",
      "Title              0.000000\n",
      "Year               0.000000\n",
      "Summary            0.001269\n",
      "Short Summary      0.000254\n",
      "Genres             0.000000\n",
      "IMDB ID            0.000000\n",
      "Runtime            0.000000\n",
      "YouTube Trailer    0.011929\n",
      "Rating             0.000000\n",
      "Movie Poster       0.000000\n",
      "Director           0.000000\n",
      "Writers            0.004569\n",
      "Cast               0.006091\n",
      "dtype: float64\n"
     ]
    }
   ],
   "source": [
    "# Examing missing values:\n",
    "\n",
    "# Print missing values percentages:\n",
    "missing_ratio = df.isnull().mean()\n",
    "print(\"\\nPercentage Missing Values:\")\n",
    "print(missing_ratio)"
   ]
  },
  {
   "cell_type": "markdown",
   "id": "7effa6d9-07bc-4bb2-a6e5-7cc57fbcf1d8",
   "metadata": {},
   "source": [
    "> <ins>Note:</ins> Since there are virutally no Nan's in the dataset we will move on."
   ]
  },
  {
   "cell_type": "code",
   "execution_count": null,
   "id": "4ae6bcd9-9f0a-4f75-9b67-f376a6f5e881",
   "metadata": {},
   "outputs": [],
   "source": []
  },
  {
   "cell_type": "markdown",
   "id": "a23bb074-5c78-4a5d-ab55-07c1a5a80543",
   "metadata": {},
   "source": [
    "**Handle Duplicates**"
   ]
  },
  {
   "cell_type": "code",
   "execution_count": 5,
   "id": "7e90c0eb-83b5-41f9-aa37-6b0304975ac5",
   "metadata": {
    "execution": {
     "iopub.execute_input": "2024-08-07T02:54:56.204620Z",
     "iopub.status.busy": "2024-08-07T02:54:56.203618Z",
     "iopub.status.idle": "2024-08-07T02:54:56.215546Z",
     "shell.execute_reply": "2024-08-07T02:54:56.215546Z",
     "shell.execute_reply.started": "2024-08-07T02:54:56.204620Z"
    }
   },
   "outputs": [
    {
     "name": "stdout",
     "output_type": "stream",
     "text": [
      "Number of duplicate rows: 0\n"
     ]
    }
   ],
   "source": [
    "# Check if duplicates exist\n",
    "\n",
    "# Identify duplicate rows\n",
    "duplicates = df.duplicated()\n",
    "\n",
    "# Count the number of duplicates\n",
    "num_duplicates = duplicates.sum()\n",
    "\n",
    "# Display the number of duplicates\n",
    "print(f'Number of duplicate rows: {num_duplicates}')"
   ]
  },
  {
   "cell_type": "markdown",
   "id": "f4e77bdd-40cd-46c1-b444-e68517b633de",
   "metadata": {},
   "source": [
    "> <ins>Note:</ins> Since there are no duplicates, we will move on."
   ]
  },
  {
   "cell_type": "code",
   "execution_count": null,
   "id": "fb5e1df3-0269-441d-8677-69ce03aba19e",
   "metadata": {},
   "outputs": [],
   "source": []
  },
  {
   "cell_type": "markdown",
   "id": "73069f01-c262-4284-9250-da4ec91118bf",
   "metadata": {},
   "source": [
    "**Handle Outliers**"
   ]
  },
  {
   "cell_type": "code",
   "execution_count": 6,
   "id": "61a85662-6b7c-462a-a9f4-13d6576d687b",
   "metadata": {
    "execution": {
     "iopub.execute_input": "2024-08-07T02:54:59.268920Z",
     "iopub.status.busy": "2024-08-07T02:54:59.268920Z",
     "iopub.status.idle": "2024-08-07T02:54:59.293884Z",
     "shell.execute_reply": "2024-08-07T02:54:59.293660Z",
     "shell.execute_reply.started": "2024-08-07T02:54:59.268920Z"
    }
   },
   "outputs": [
    {
     "name": "stdout",
     "output_type": "stream",
     "text": [
      "\n",
      "Data Distributions:\n",
      "         Year  Runtime  Rating\n",
      "count 3940.00  3940.00 3940.00\n",
      "mean  2012.13   100.35    6.56\n",
      "std      4.82    29.80    0.89\n",
      "min   2000.00     0.00    1.70\n",
      "25%   2009.00    91.00    6.10\n",
      "50%   2013.00   102.00    6.60\n",
      "75%   2016.00   115.00    7.10\n",
      "max   2018.00   338.00    9.50\n",
      "\n",
      "Objects-Categorical Variables:\n",
      "           Title                                            Summary  \\\n",
      "count       3940                                               3935   \n",
      "unique      3927                                               3935   \n",
      "top     The Gift  Patton Oswald, despite a personal tragedy, pro...   \n",
      "freq           2                                                  1   \n",
      "\n",
      "       Short Summary Genres    IMDB ID YouTube Trailer  \\\n",
      "count           3939   3940       3940            3893   \n",
      "unique          3938    836       3940            3883   \n",
      "top     Add a Plot »  Drama  tt7026230     UKY3scPIMd8   \n",
      "freq               2    116          1               9   \n",
      "\n",
      "                                             Movie Poster        Director  \\\n",
      "count                                                3940            3940   \n",
      "unique                                               3932            2403   \n",
      "top     https://hydramovies.com/wp-content/uploads/201...  Clint Eastwood   \n",
      "freq                                                    2              15   \n",
      "\n",
      "           Writers                                       Cast  \n",
      "count         3922                                       3916  \n",
      "unique        2883                                       3826  \n",
      "top     Luc Besson  Daniel Radcliffe|Emma Watson|Rupert Grint  \n",
      "freq            14                                          7  \n"
     ]
    }
   ],
   "source": [
    "# Set the global display format for floating-point numbers\n",
    "pd.options.display.float_format = '{:.2f}'.format\n",
    "\n",
    "# Examine the distributions\n",
    "print(\"\\nData Distributions:\")\n",
    "print(df.describe())\n",
    "print(\"\\nObjects-Categorical Variables:\")\n",
    "print(df.describe(include=['object','string']))\n"
   ]
  },
  {
   "cell_type": "code",
   "execution_count": null,
   "id": "61e7d7f3-57ac-4525-b4ea-2fab68a0aabe",
   "metadata": {},
   "outputs": [],
   "source": []
  },
  {
   "cell_type": "markdown",
   "id": "c29e0cf0-04a7-474a-a5b5-c60061846725",
   "metadata": {},
   "source": [
    "> <ins>Note:</ins> Descriptive Stats shows us that the Min value for Runtime is 0 which should not be the case. Further\n",
    "investigation shows 193 records where Runtime = 0 :"
   ]
  },
  {
   "cell_type": "code",
   "execution_count": 7,
   "id": "02f41812-e7a2-4b9e-93b2-d034a4c7cd4f",
   "metadata": {
    "execution": {
     "iopub.execute_input": "2024-08-07T02:55:06.541658Z",
     "iopub.status.busy": "2024-08-07T02:55:06.540661Z",
     "iopub.status.idle": "2024-08-07T02:55:06.545843Z",
     "shell.execute_reply": "2024-08-07T02:55:06.545644Z",
     "shell.execute_reply.started": "2024-08-07T02:55:06.541658Z"
    }
   },
   "outputs": [
    {
     "name": "stdout",
     "output_type": "stream",
     "text": [
      "The number of records where Runtime is 0: 193\n"
     ]
    }
   ],
   "source": [
    "# Outlier Work\n",
    "\n",
    "# Ensure the 'Runtime' column is numeric\n",
    "df['Runtime'] = pd.to_numeric(df['Runtime'], errors='coerce')\n",
    "\n",
    "# Calculate the number of records where Runtime is 0\n",
    "num_runtime_zero = (df['Runtime'] == 0).sum()\n",
    "\n",
    "# Display the number of records with Runtime = 0\n",
    "print(f'The number of records where Runtime is 0: {num_runtime_zero}')\n"
   ]
  },
  {
   "cell_type": "code",
   "execution_count": null,
   "id": "bf9e457f-7303-464c-98a7-9c3d20e1ed59",
   "metadata": {},
   "outputs": [],
   "source": []
  },
  {
   "cell_type": "markdown",
   "id": "12a3796d-d7e6-40f0-8627-03fb747dacd1",
   "metadata": {},
   "source": [
    "**Use Imputation to update those records with Average Runtime instead:**"
   ]
  },
  {
   "cell_type": "code",
   "execution_count": 17,
   "id": "0ab9220a-2cc5-4430-9f6d-8f35957890d8",
   "metadata": {
    "execution": {
     "iopub.execute_input": "2024-08-07T03:06:10.605549Z",
     "iopub.status.busy": "2024-08-07T03:06:10.604553Z",
     "iopub.status.idle": "2024-08-07T03:06:10.610507Z",
     "shell.execute_reply": "2024-08-07T03:06:10.610507Z",
     "shell.execute_reply.started": "2024-08-07T03:06:10.605549Z"
    }
   },
   "outputs": [
    {
     "name": "stdout",
     "output_type": "stream",
     "text": [
      "The rounded average runtime of all non-zero movies is: 106 minutes\n"
     ]
    }
   ],
   "source": [
    "# First we calculate the average runtime of non-zero values\n",
    "#average_runtime_non_zero = df[df['Runtime'] != 0]['Runtime'].mean()\n",
    "\n",
    "# Since Runtime is an int, calculate the average runtime of non-zero values and round to the nearest integer\n",
    "average_runtime_non_zero = round(df[df['Runtime'] != 0]['Runtime'].mean())\n",
    "\n",
    "# Display the rounded average runtime\n",
    "print(f'The rounded average runtime of all non-zero movies is: {average_runtime_non_zero} minutes')\n"
   ]
  },
  {
   "cell_type": "code",
   "execution_count": 19,
   "id": "0fa563d3-7b31-4ecd-8a57-2a2d85b9e36c",
   "metadata": {
    "execution": {
     "iopub.execute_input": "2024-08-07T03:08:00.978993Z",
     "iopub.status.busy": "2024-08-07T03:08:00.978993Z",
     "iopub.status.idle": "2024-08-07T03:08:00.984046Z",
     "shell.execute_reply": "2024-08-07T03:08:00.984046Z",
     "shell.execute_reply.started": "2024-08-07T03:08:00.978993Z"
    }
   },
   "outputs": [
    {
     "name": "stdout",
     "output_type": "stream",
     "text": [
      "The number of records where Runtime is 0 after imputation: 0\n",
      "The average runtime of all movies is now: 105.49695431472081 minutes\n"
     ]
    }
   ],
   "source": [
    "# Then we Impute the zero Runtime values with the average Runtime value:\n",
    "df.loc[df['Runtime'] == 0, 'Runtime'] = average_runtime_non_zero\n",
    "\n",
    "# Verify the update\n",
    "num_runtime_zero_after_imputation = (df['Runtime'] == 0).sum()\n",
    "\n",
    "# Print verification results\n",
    "print(f'The number of records where Runtime is 0 after imputation: {num_runtime_zero_after_imputation}')\n",
    "print(f'The average runtime of all movies is now: {df[\"Runtime\"].mean()} minutes')"
   ]
  },
  {
   "cell_type": "code",
   "execution_count": 20,
   "id": "54f07beb-b96c-42a4-aa06-c4928047f739",
   "metadata": {
    "execution": {
     "iopub.execute_input": "2024-08-07T03:08:41.232969Z",
     "iopub.status.busy": "2024-08-07T03:08:41.232969Z",
     "iopub.status.idle": "2024-08-07T03:08:41.236130Z",
     "shell.execute_reply": "2024-08-07T03:08:41.236130Z",
     "shell.execute_reply.started": "2024-08-07T03:08:41.232969Z"
    }
   },
   "outputs": [],
   "source": [
    "# force the imputed values to go into Runtime as int:\n",
    "df['Runtime'] = df['Runtime'].astype(int)"
   ]
  },
  {
   "cell_type": "markdown",
   "id": "65117363-e475-49a2-916d-5eca90bb59a8",
   "metadata": {},
   "source": [
    "**Write cleaned data to an output CSV file:**"
   ]
  },
  {
   "cell_type": "code",
   "execution_count": 21,
   "id": "5714c9eb-3145-4cbe-b5c7-29a25d6793de",
   "metadata": {
    "execution": {
     "iopub.execute_input": "2024-08-07T03:08:46.120668Z",
     "iopub.status.busy": "2024-08-07T03:08:46.119672Z",
     "iopub.status.idle": "2024-08-07T03:08:46.200940Z",
     "shell.execute_reply": "2024-08-07T03:08:46.200940Z",
     "shell.execute_reply.started": "2024-08-07T03:08:46.120668Z"
    }
   },
   "outputs": [
    {
     "name": "stdout",
     "output_type": "stream",
     "text": [
      "The cleaned data has been written to Cleaned-Movies-Primary.csv\n"
     ]
    }
   ],
   "source": [
    "# Write the cleaned data to an output CSV file\n",
    "output_file_path = 'Cleaned-Movies-Primary.csv'\n",
    "df.to_csv(output_file_path, index=False)\n",
    "\n",
    "print(f'The cleaned data has been written to {output_file_path}')"
   ]
  },
  {
   "cell_type": "code",
   "execution_count": null,
   "id": "0200e0f5-07a0-447a-b9d0-4c8c8067653c",
   "metadata": {},
   "outputs": [],
   "source": []
  },
  {
   "cell_type": "code",
   "execution_count": null,
   "id": "fd0978e7-e003-4dba-a1f3-8efbddaec9bf",
   "metadata": {},
   "outputs": [],
   "source": []
  },
  {
   "cell_type": "markdown",
   "id": "48186919-7e2c-4a36-a58f-c59d695c75d9",
   "metadata": {},
   "source": []
  },
  {
   "cell_type": "code",
   "execution_count": null,
   "id": "ae63fcdd-014b-4ec8-b1cc-22af3844673c",
   "metadata": {},
   "outputs": [],
   "source": []
  },
  {
   "cell_type": "code",
   "execution_count": null,
   "id": "f20eda16-1710-4314-b6a1-8b8d6354e5f4",
   "metadata": {},
   "outputs": [],
   "source": []
  },
  {
   "cell_type": "code",
   "execution_count": null,
   "id": "efa1b8a4-d07c-4729-a799-2ddf04aebd58",
   "metadata": {},
   "outputs": [],
   "source": []
  },
  {
   "cell_type": "code",
   "execution_count": null,
   "id": "277e4751-0554-4f02-af65-d67f535f37a7",
   "metadata": {},
   "outputs": [],
   "source": []
  }
 ],
 "metadata": {
  "kernelspec": {
   "display_name": "Python 3 (ipykernel)",
   "language": "python",
   "name": "python3"
  },
  "language_info": {
   "codemirror_mode": {
    "name": "ipython",
    "version": 3
   },
   "file_extension": ".py",
   "mimetype": "text/x-python",
   "name": "python",
   "nbconvert_exporter": "python",
   "pygments_lexer": "ipython3",
   "version": "3.11.5"
  }
 },
 "nbformat": 4,
 "nbformat_minor": 5
}
