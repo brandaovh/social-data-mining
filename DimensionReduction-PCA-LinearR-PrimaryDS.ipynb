{
 "cells": [
  {
   "cell_type": "markdown",
   "id": "5b2d2b8d-8646-4e3b-babb-aaad5f2e2818",
   "metadata": {},
   "source": [
    "# **Dimensionality Reduction & Predictive Analysis - for Primary Dataset (\"Cleaned-Movies-Primary.csv\")**"
   ]
  },
  {
   "cell_type": "markdown",
   "id": "17798743-e44e-453e-af39-90d9b8ecd371",
   "metadata": {},
   "source": [
    "### Techniques used: \n",
    "### * Dimensionality Reduction - Principle Component Analysis (PCA)\n",
    "### * Predictive Analysis - Linear Regression"
   ]
  },
  {
   "cell_type": "code",
   "execution_count": null,
   "id": "1454b627-68ed-4caf-9929-68192cf6871a",
   "metadata": {},
   "outputs": [],
   "source": []
  },
  {
   "cell_type": "markdown",
   "id": "8dbd7c9b-a0a7-4035-aa33-6e28342c2af6",
   "metadata": {},
   "source": [
    "**Dimesionality Reduction Rationale- We are using Principle Component Analysis (PCA) method for the following reasons:** \n",
    "* PCA is ideal for transforming high dimensional datasets into low dimension of features, while retaining as much important information as possible\n",
    "* a common use-case for PCA is movie recommendation system, like our project\n",
    "* PCA helps in reducing load on computation resources and preventing overfitting\n",
    "\n"
   ]
  },
  {
   "cell_type": "code",
   "execution_count": null,
   "id": "bf0217f7-c1da-447a-962a-0f532c97a04b",
   "metadata": {},
   "outputs": [],
   "source": []
  },
  {
   "cell_type": "code",
   "execution_count": null,
   "id": "b765012d-18de-4b84-a8b6-702189f5950f",
   "metadata": {},
   "outputs": [],
   "source": [
    "# check for correlation analysis first, amongst all variables :"
   ]
  },
  {
   "cell_type": "code",
   "execution_count": 2,
   "id": "6d0de02d-fe7f-4bd3-9df2-1cf0f18a90d6",
   "metadata": {
    "execution": {
     "iopub.execute_input": "2024-08-14T11:01:00.506880Z",
     "iopub.status.busy": "2024-08-14T11:01:00.506880Z",
     "iopub.status.idle": "2024-08-14T11:01:02.714602Z",
     "shell.execute_reply": "2024-08-14T11:01:02.714602Z",
     "shell.execute_reply.started": "2024-08-14T11:01:00.506880Z"
    }
   },
   "outputs": [
    {
     "name": "stdout",
     "output_type": "stream",
     "text": [
      "Correlations with Rating:\n",
      "Rating     1.000000\n",
      "Runtime    0.369321\n",
      "IMDB ID   -0.168335\n",
      "Year      -0.225753\n",
      "Name: Rating, dtype: float64\n"
     ]
    }
   ],
   "source": [
    "import pandas as pd\n",
    "\n",
    "# Load your dataset\n",
    "file_path = 'Cleaned-Reduced-Movie-Primary.csv'\n",
    "df = pd.read_csv(file_path)\n",
    "\n",
    "# Determine correlation analysis: \n",
    "\n",
    "# First, drop non-numeric columns (if any still exist) so we can calculating correlations\n",
    "numeric_df = df.select_dtypes(include=[float, int])\n",
    "\n",
    "# Correlation between each (original) numeric feature and the target variable\n",
    "correlations = numeric_df.corr()['Rating'].sort_values(ascending=False)\n",
    "\n",
    "print(\"Correlations with Rating:\")\n",
    "print(correlations)\n"
   ]
  },
  {
   "cell_type": "code",
   "execution_count": null,
   "id": "66a77bc0-f31c-4630-ba49-11b2a7c3c3d4",
   "metadata": {},
   "outputs": [],
   "source": []
  },
  {
   "cell_type": "code",
   "execution_count": 3,
   "id": "554089aa-947f-4dfb-9135-ba5b3a0dabb9",
   "metadata": {
    "execution": {
     "iopub.execute_input": "2024-08-14T11:02:19.219163Z",
     "iopub.status.busy": "2024-08-14T11:02:19.219163Z",
     "iopub.status.idle": "2024-08-14T11:03:05.224073Z",
     "shell.execute_reply": "2024-08-14T11:03:05.224073Z",
     "shell.execute_reply.started": "2024-08-14T11:02:19.219163Z"
    }
   },
   "outputs": [
    {
     "name": "stdout",
     "output_type": "stream",
     "text": [
      "Correlations with Rating, including converted one-hot encoded columns:\n",
      "Rating                    1.000000\n",
      "Runtime                   0.369321\n",
      "Genre_Documentary         0.100362\n",
      "Cast_Leonardo DiCaprio    0.082858\n",
      "Genre_Biography           0.079060\n",
      "                            ...   \n",
      "Cast_Kevin Tanski        -0.141388\n",
      "Cast_Chris Clark         -0.141388\n",
      "Cast_Robert Woodley      -0.141388\n",
      "IMDB ID                  -0.168335\n",
      "Year                     -0.225753\n",
      "Name: Rating, Length: 1787, dtype: float64\n"
     ]
    }
   ],
   "source": [
    "# Identify and convert boolean columns to integers (0 or 1)\n",
    "bool_columns = df.select_dtypes(include=['bool']).columns\n",
    "df[bool_columns] = df[bool_columns].astype(int)\n",
    "\n",
    "# Now select all numeric columns, including the newly converted ones\n",
    "numeric_df = df.select_dtypes(include=[float, int])\n",
    "\n",
    "# Compute the correlation with the target variable (Rating)\n",
    "correlations = numeric_df.corr()['Rating'].sort_values(ascending=False)\n",
    "\n",
    "print(\"Correlations with Rating, including converted one-hot encoded columns:\")\n",
    "print(correlations)\n"
   ]
  },
  {
   "cell_type": "markdown",
   "id": "280d6f43-8ae2-4b5e-8abf-4ca3994c5db3",
   "metadata": {},
   "source": [
    ">**Interpretation - Correlation Analysis:**\n",
    "\n",
    ">•\tFeature Influence: Features like Runtime, certain genres (e.g., Documentary and Biography), and well-known actors (e.g., Leonardo DiCaprio) are positively associated with higher ratings. Conversely, some other cast members and newer movies are associated with lower ratings.\n",
    "    \n",
    ">•\tCorrelation Strength:   \n",
    ">- Moderate Correlations: Runtime has the strongest correlation with Rating, but overall is still a moderate correlation. \n",
    ">- Weaker Correlations: Many of the one-hot encoded columns (genres, cast members) have weaker correlations, but they can still give us useful insights into what can influence movie ratings.\n",
    ">- Negative Correlations: Cast_Kevin Tanski (-0.141388), Cast_Chris Clark (-0.141388), Cast_Robert Woodley (-0.141388): These actors are associated with lower movie ratings, though the correlations are moderate. Also Year (-0.225753): Newer movies (higher Year values) tend to have lower ratings, as indicated by this negative correlation.\n",
    "\n"
   ]
  },
  {
   "cell_type": "code",
   "execution_count": null,
   "id": "dffe438e-ea92-4fc5-8f3c-09d446cd80a8",
   "metadata": {},
   "outputs": [],
   "source": []
  },
  {
   "cell_type": "code",
   "execution_count": null,
   "id": "c288e6c1-c47c-4deb-9f34-fd60321ef64f",
   "metadata": {},
   "outputs": [],
   "source": []
  },
  {
   "cell_type": "code",
   "execution_count": 4,
   "id": "9282f000-9b23-4381-b0e4-83805e2f372b",
   "metadata": {
    "execution": {
     "iopub.execute_input": "2024-08-14T11:03:05.226075Z",
     "iopub.status.busy": "2024-08-14T11:03:05.225077Z",
     "iopub.status.idle": "2024-08-14T11:03:07.447692Z",
     "shell.execute_reply": "2024-08-14T11:03:07.447692Z",
     "shell.execute_reply.started": "2024-08-14T11:03:05.226075Z"
    }
   },
   "outputs": [
    {
     "data": {
      "text/plain": [
       "Index(['Title', 'Summary', 'Short Summary', 'YouTube Trailer', 'Movie Poster',\n",
       "       'Director', 'Writers'],\n",
       "      dtype='object')"
      ]
     },
     "execution_count": 4,
     "metadata": {},
     "output_type": "execute_result"
    }
   ],
   "source": [
    "from sklearn.preprocessing import StandardScaler\n",
    "from sklearn.decomposition import PCA\n",
    "import matplotlib.pyplot as plt\n",
    "\n",
    "# Separate features and target variable\n",
    "X = df.drop('Rating', axis=1)  #'Rating' is our target column\n",
    "y = df['Rating']\n",
    "\n",
    "# Identify and convert boolean columns to integers (0 or 1)\n",
    "bool_columns = X.select_dtypes(include=['bool']).columns\n",
    "X[bool_columns] = X[bool_columns].astype(int)\n",
    "\n",
    "# Identify the non-numeric columns in the DataFrame \n",
    "non_numeric_columns = X.select_dtypes(exclude=[float, int]).columns\n",
    "\n",
    "non_numeric_columns\n"
   ]
  },
  {
   "cell_type": "code",
   "execution_count": 14,
   "id": "f6e26cb7-2271-4a7d-9fbc-b97cc36f5059",
   "metadata": {
    "execution": {
     "iopub.execute_input": "2024-08-11T21:53:46.662611Z",
     "iopub.status.busy": "2024-08-11T21:53:46.662611Z",
     "iopub.status.idle": "2024-08-11T21:53:50.408749Z",
     "shell.execute_reply": "2024-08-11T21:53:50.408749Z",
     "shell.execute_reply.started": "2024-08-11T21:53:46.662611Z"
    }
   },
   "outputs": [
    {
     "data": {
      "image/png": "[encoded data removed]",
      "text/plain": [
       "<Figure size 1000x600 with 1 Axes>"
      ]
     },
     "metadata": {},
     "output_type": "display_data"
    }
   ],
   "source": [
    "# Drop any non-numeric columns if they exist \n",
    "X = X.drop(non_numeric_columns, axis=1)\n",
    "\n",
    "# Step 1: Standardize the features\n",
    "scaler = StandardScaler()\n",
    "X_scaled = scaler.fit_transform(X)\n",
    "\n",
    "# Step 2: Apply PCA\n",
    "pca = PCA()\n",
    "X_pca = pca.fit_transform(X_scaled)\n",
    "\n",
    "# Use the explained variance to decide the number of components\n",
    "explained_variance = pca.explained_variance_ratio_.cumsum()\n",
    "\n",
    "# Plot the explained variance\n",
    "plt.figure(figsize=(10, 6))\n",
    "plt.plot(range(1, len(explained_variance) + 1), explained_variance, marker='o')\n",
    "plt.xlabel('Number of Principal Components')\n",
    "plt.ylabel('Cumulative Explained Variance')\n",
    "plt.title('Explained Variance by PCA Components')\n",
    "plt.grid()\n",
    "plt.show()\n",
    "\n",
    "# Step 3: Choose the number of components to keep (e.g., 95% variance)\n",
    "n_components = sum(explained_variance < 0.95) + 1  # Adjust this threshold as needed\n",
    "pca = PCA(n_components=n_components)\n",
    "X_pca_reduced = pca.fit_transform(X_scaled)\n",
    "\n",
    "# X_pca_reduced now contains the reduced data after applying PCA"
   ]
  },
  {
   "cell_type": "markdown",
   "id": "e12036c2-7fc9-4a1e-bbb6-52e3b3021120",
   "metadata": {},
   "source": [
    "> **Interpretation - Correlation Plot:**\n",
    ">  The plot shows a linear relationship (straight line), indicating that each additional principal component we might add, only explains a pretty similar amount of variance as the previous component   \n",
    "> NOTE: if there were an \"elbow point\" in the curve/line (ie. where the curve starts to level off), that would mean additional components \n",
    "> were actually adding less variance. We would want to stop adding the components at the elbow pt, as those components wouldn't add much to the \n",
    "> further analysis"
   ]
  },
  {
   "cell_type": "code",
   "execution_count": null,
   "id": "2ef6e5e8-308a-4ef5-ba5f-02de55270745",
   "metadata": {},
   "outputs": [],
   "source": []
  },
  {
   "cell_type": "code",
   "execution_count": null,
   "id": "b16696d5-365f-4339-9197-3403e32fcbf7",
   "metadata": {
    "execution": {
     "iopub.status.busy": "2024-08-14T11:03:07.611927Z",
     "iopub.status.idle": "2024-08-14T11:03:07.611927Z",
     "shell.execute_reply": "2024-08-14T11:03:07.611927Z",
     "shell.execute_reply.started": "2024-08-14T11:03:07.611927Z"
    }
   },
   "outputs": [],
   "source": [
    "# View the shape of the reduced dataset\n",
    "print(\"Shape of the reduced dataset after PCA:\", X_pca_reduced.shape)\n",
    "\n",
    "# Create a DataFrame from the reduced data\n",
    "df_pca_reduced = pd.DataFrame(X_pca_reduced, columns=[f'PC{i+1}' for i in range(X_pca_reduced.shape[1])])\n",
    "\n",
    "# Display the first few rows of the new DataFrame\n",
    "print(\"First few rows of the reduced dataset:\")\n",
    "print(df_pca_reduced.head())\n"
   ]
  },
  {
   "cell_type": "markdown",
   "id": "5e54eb39-ff8f-4bd5-b7b1-ffa4dbc9da67",
   "metadata": {},
   "source": [
    "> **Interpretation - PCA analysis** : Examining the PCA dataframe that was produced, we get an explanation on Variance: The first few \n",
    "> principal components (PC1, PC2, etc.) capture the most significant variance in the data. These components, therefore, are the most important for our\n",
    "> predictive models."
   ]
  },
  {
   "cell_type": "code",
   "execution_count": null,
   "id": "3e9db090-d4ab-4d2e-ab6a-ef4e6d8e584a",
   "metadata": {},
   "outputs": [],
   "source": []
  },
  {
   "cell_type": "code",
   "execution_count": null,
   "id": "e86dbf50-5353-44bb-ab46-3fd64a1b38de",
   "metadata": {
    "execution": {
     "iopub.status.busy": "2024-08-14T11:03:07.610931Z",
     "iopub.status.idle": "2024-08-14T11:03:07.610931Z",
     "shell.execute_reply": "2024-08-14T11:03:07.610931Z",
     "shell.execute_reply.started": "2024-08-14T11:03:07.610931Z"
    }
   },
   "outputs": [],
   "source": [
    "# Extract PCA components\n",
    "pca_components = pd.DataFrame(pca.components_, columns=X.columns)\n",
    "\n",
    "# Identify the top 2-3 most important features based on the first principal component\n",
    "most_important_features = pca_components.iloc[0].abs().sort_values(ascending=False).head(3)\n",
    "\n",
    "# Print the results\n",
    "print(most_important_features)"
   ]
  },
  {
   "cell_type": "code",
   "execution_count": null,
   "id": "d1b3809d-e9b2-409b-ac96-86a2156953dd",
   "metadata": {},
   "outputs": [],
   "source": []
  },
  {
   "cell_type": "markdown",
   "id": "1bf631f6-80d6-4f09-a0ac-c98d40ec68e7",
   "metadata": {},
   "source": [
    "**Predictive Analysis RAtionale - We are using Linear Regression for the following reasons:**\n",
    "\n",
    "* Now that our original input dataset has been feature-reduced (i.e. dimensionality reduction) using the PCA method, we will continue to do our predictive analysis using the Linear Regression model.\n",
    "* Linear Regression is a good model for this project because of its simplicity, and it can help us understand how different \"principal components\" (ie. the linear combinations of Genres, Cast, etc.) relate to Movie Ratings.\n",
    "* We have used the **Ridge Linear Regression** model for our project and data because it includes \"regularization\" to prevent overfitting, which we have to be especially careful with in our data since we are dealing with so many features.\n",
    "\n",
    "[https://medium.com/@abelkuriakose/ridge-regression-98c2a65cb3b1#:~:text=It%20is%20a%20regularization%20technique,complex%20and%20overfitting%20the%20data.&text=Here%2C%20%CE%BB%20(lambda)%20is,Ridge%20penalty%20or%20shrinkage%20parameter.]"
   ]
  },
  {
   "cell_type": "code",
   "execution_count": 20,
   "id": "fc44425d-e8d5-46bc-973c-ff4a21c22ec2",
   "metadata": {
    "execution": {
     "iopub.execute_input": "2024-08-12T00:33:57.941773Z",
     "iopub.status.busy": "2024-08-12T00:33:57.938783Z",
     "iopub.status.idle": "2024-08-12T00:33:58.432447Z",
     "shell.execute_reply": "2024-08-12T00:33:58.431449Z",
     "shell.execute_reply.started": "2024-08-12T00:33:57.940776Z"
    }
   },
   "outputs": [
    {
     "name": "stdout",
     "output_type": "stream",
     "text": [
      "Mean Squared Error: 30.21050680011104\n"
     ]
    }
   ],
   "source": [
    "# Run the predictive Linear model :\n",
    "\n",
    "from sklearn.model_selection import train_test_split\n",
    "from sklearn.linear_model import Ridge\n",
    "from sklearn.metrics import mean_squared_error\n",
    "\n",
    "# Split the data into training and testing sets (80% training, 20% testing)\n",
    "X_train, X_test, y_train, y_test = train_test_split(X_pca_reduced, y, test_size=0.2, random_state=42)\n",
    "\n",
    "# Use a Ridge regression model to fit our data, then train the model:\n",
    "model = Ridge(alpha=1.0)  # use regularization strength of alpha = 1\n",
    "model.fit(X_train, y_train)\n",
    "\n",
    "# Now run prediction on the test set :\n",
    "y_pred = model.predict(X_test)\n",
    "\n",
    "# Lastly evaluate the model and run metrics:\n",
    "mse = mean_squared_error(y_test, y_pred)\n",
    "print(f\"Mean Squared Error: {mse}\")\n"
   ]
  },
  {
   "cell_type": "markdown",
   "id": "2645c566-2e71-4ec6-b716-1e36b5a85add",
   "metadata": {},
   "source": [
    "> **Interpretation: Model is not performing very well.**\n",
    "\n",
    "Given that MSE is compares actual target values (y_test, movie rating) to the predicted values (y_pred), a lower MSE indicates that the model's \n",
    "predictions are closer to the actual values, while a higher MSE indicates a larger error in predictions. Our MSE value of 30.21 indicates that \n",
    "the model is not performing very well, as the errors are relatively large especially since the range of values of our target variable, Movie Rating,\n",
    "only goes form 1 to 10. "
   ]
  },
  {
   "cell_type": "code",
   "execution_count": null,
   "id": "74e7bdf1-f2ca-4db0-8d52-a59bf7e7a139",
   "metadata": {},
   "outputs": [],
   "source": [
    "# Let's try running a regular Linear Regression Model without any regularization to compare performance :"
   ]
  },
  {
   "cell_type": "code",
   "execution_count": 21,
   "id": "de11b646-80ba-4057-8faa-f0dd39016b9a",
   "metadata": {
    "execution": {
     "iopub.execute_input": "2024-08-12T00:34:29.708092Z",
     "iopub.status.busy": "2024-08-12T00:34:29.708092Z",
     "iopub.status.idle": "2024-08-12T00:34:30.514606Z",
     "shell.execute_reply": "2024-08-12T00:34:30.513602Z",
     "shell.execute_reply.started": "2024-08-12T00:34:29.708092Z"
    }
   },
   "outputs": [
    {
     "name": "stdout",
     "output_type": "stream",
     "text": [
      "Mean Squared Error (Linear Regression): 2.361588531542235e+19\n"
     ]
    }
   ],
   "source": [
    "from sklearn.linear_model import LinearRegression\n",
    "\n",
    "# Assuming X_pca_reduced is the PCA-reduced data\n",
    "# Split the PCA-reduced data into training and testing sets (80/20 split)\n",
    "X_train, X_test, y_train, y_test = train_test_split(X_pca_reduced, y, test_size=0.2, random_state=42)\n",
    "\n",
    "# Train a simple Linear Regression model on the PCA-reduced data\n",
    "linear_model = LinearRegression()\n",
    "linear_model.fit(X_train, y_train)\n",
    "\n",
    "# Predict on the test set\n",
    "y_pred_linear = linear_model.predict(X_test)\n",
    "\n",
    "# Evaluate the model\n",
    "mse_linear = mean_squared_error(y_test, y_pred_linear)\n",
    "print(f\"Mean Squared Error (Linear Regression): {mse_linear}\")\n",
    "\n"
   ]
  },
  {
   "cell_type": "markdown",
   "id": "0454bc44-b81c-4c2b-ba8c-5addabe763c3",
   "metadata": {},
   "source": [
    "> **Interpretation: Simple Linear Regression Model performs Extremely Poorly.**\n",
    ">\n",
    "> The results from the simple linear regression model are an MSE of 2.361588531542235e+19 (ie. approximately 23.6 quintillion)—is extremely large and indicates that our model is performing every poorly. This extremely large MSE error is likely due to our model being overfit, due to so many columns and insufficient dimension reduction.\n"
   ]
  },
  {
   "cell_type": "markdown",
   "id": "4479819c-b254-499b-a545-178a222e4277",
   "metadata": {},
   "source": [
    "**Recommendations** - PCA is a good choice for reducing dimensions but Linear Regression is a poor choice for predictive \n",
    "modeling, likely due to overfitting. Random Tree analysis or other models might work better in this regard.\n"
   ]
  },
  {
   "cell_type": "code",
   "execution_count": null,
   "id": "f82258a6-7041-4a0b-9f27-5b48fa8e0928",
   "metadata": {},
   "outputs": [],
   "source": []
  }
 ],
 "metadata": {
  "kernelspec": {
   "display_name": "Python 3 (ipykernel)",
   "language": "python",
   "name": "python3"
  },
  "language_info": {
   "codemirror_mode": {
    "name": "ipython",
    "version": 3
   },
   "file_extension": ".py",
   "mimetype": "text/x-python",
   "name": "python",
   "nbconvert_exporter": "python",
   "pygments_lexer": "ipython3",
   "version": "3.11.5"
  }
 },
 "nbformat": 4,
 "nbformat_minor": 5
}
