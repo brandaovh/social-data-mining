{
 "cells": [
  {
   "cell_type": "code",
   "execution_count": null,
   "id": "4e46e2d3-c3d1-451e-ba1e-a0091e4e8f57",
   "metadata": {},
   "outputs": [],
   "source": [
    "# Attempting to Split out original uncleaned Primary D/S but FIRST REDUCING the Hydra-Movies dataset TO 1000 ROWS"
   ]
  },
  {
   "cell_type": "code",
   "execution_count": 2,
   "id": "e75546c9-419d-406a-9b5e-31f1e07d72d1",
   "metadata": {
    "execution": {
     "iopub.execute_input": "2024-08-10T23:04:07.887782Z",
     "iopub.status.busy": "2024-08-10T23:04:07.887782Z",
     "iopub.status.idle": "2024-08-10T23:04:09.263715Z",
     "shell.execute_reply": "2024-08-10T23:04:09.263715Z",
     "shell.execute_reply.started": "2024-08-10T23:04:07.887782Z"
    }
   },
   "outputs": [
    {
     "name": "stdout",
     "output_type": "stream",
     "text": [
      "                                                Title  Year  \\\n",
      "0                         Patton Oswalt: Annihilation  2017   \n",
      "1                                       New York Doll  2005   \n",
      "2   Mickey's Magical Christmas: Snowed in at the H...  2001   \n",
      "3                          Mickey's House of Villains  2001   \n",
      "4                                       And Then I Go  2017   \n",
      "5                            An Extremely Goofy Movie  2000   \n",
      "6                                        Peter Rabbit  2018   \n",
      "7                                          Love Songs  2007   \n",
      "8                                                  89  2017   \n",
      "9                                      The Foster Boy  2011   \n",
      "10                                    Forever My Girl  2018   \n",
      "11                            Tom Segura: Disgraceful  2018   \n",
      "12      The Secret Rules of Modern Living: Algorithms  2015   \n",
      "13                                Secrets in the Fall  2015   \n",
      "14                                       Silent Night  2017   \n",
      "\n",
      "                                              Summary  \\\n",
      "0   Patton Oswald, despite a personal tragedy, pro...   \n",
      "1   A recovering alcoholic and recently converted ...   \n",
      "2   After everyone is snowed in at the House of Mo...   \n",
      "3   The villains from the popular animated Disney ...   \n",
      "4   In the cruel world of junior high, Edwin suffe...   \n",
      "5   It's a big time in Max's life. He's college bo...   \n",
      "6   Based on the books by Beatrix Potter: Peter Ra...   \n",
      "7   Julie's boyfriend Ismaël lives with her; rathe...   \n",
      "8   89 tells the incredible story of one of footba...   \n",
      "9   The illegitimate orphan child, 12-year-old Max...   \n",
      "10  After being gone for a decade a country star r...   \n",
      "11  Comedian Tom Segura rants about funny things a...   \n",
      "12  Professor Marcus du Sautoy demystifies the hid...   \n",
      "13  Nothing is impossible for a group of young cam...   \n",
      "14  Adam unexpectedly visits his family house at C...   \n",
      "\n",
      "                                        Short Summary  \\\n",
      "0   Patton Oswalt, despite a personal tragedy, pro...   \n",
      "1   A recovering alcoholic and recently converted ...   \n",
      "2   Mickey and all his friends hold their own Chri...   \n",
      "3   The villains from the popular animated Disney ...   \n",
      "4   In the cruel world of junior high, Edwin suffe...   \n",
      "5   Max goes to college, but to his embarassment h...   \n",
      "6   Feature adaptation of Beatrix Potter's classic...   \n",
      "7   A musical interpretation of three lovers livin...   \n",
      "8   The true story of a sporting miracle, when Ars...   \n",
      "9   A Swiss-German rural peasant family takes Max,...   \n",
      "10  After being gone for a decade a country star r...   \n",
      "11  Comedian Tom Segura rants about funny things a...   \n",
      "12  Professor Marcus du Sautoy demystifies the hid...   \n",
      "13  Nothing is impossible for a group of young cam...   \n",
      "14  Adam unexpectedly visits his family house at C...   \n",
      "\n",
      "                                       Genres    IMDB ID  Runtime  \\\n",
      "0                               Uncategorized  tt7026230       66   \n",
      "1                           Documentary|Music  tt0436629       75   \n",
      "2   Adventure|Animation|Comedy|Family|Fantasy  tt0300195       65   \n",
      "3      Animation|Comedy|Family|Fantasy|Horror  tt0329374        0   \n",
      "4                                       Drama  tt2018111       99   \n",
      "5               Animation|Comedy|Family|Sport  tt0208185       79   \n",
      "6   Adventure|Animation|Comedy|Family|Fantasy  tt5117670       95   \n",
      "7                               Uncategorized  tt0996605       91   \n",
      "8                               Uncategorized  tt7614404       91   \n",
      "9                                       Drama  tt2057931      107   \n",
      "10                        Drama|Music|Romance  tt4103724      108   \n",
      "11                         Comedy|Documentary  tt7379330        0   \n",
      "12                                Documentary  tt5818010       58   \n",
      "13                                     Family  tt2522908        0   \n",
      "14                               Comedy|Drama  tt7133554      100   \n",
      "\n",
      "   YouTube Trailer  Rating                                       Movie Poster  \\\n",
      "0      4hZi5QaMBFc     7.4  https://hydramovies.com/wp-content/uploads/201...   \n",
      "1      jwD04NsnLLg     7.9  https://hydramovies.com/wp-content/uploads/201...   \n",
      "2      uCKwHHftrU4     6.8  https://hydramovies.com/wp-content/uploads/201...   \n",
      "3      JA03ciYt-Ek     6.6  https://hydramovies.com/wp-content/uploads/201...   \n",
      "4      8CdIiD6-iF0     7.6  https://hydramovies.com/wp-content/uploads/201...   \n",
      "5      H8oSvldAGfg     6.4  https://hydramovies.com/wp-content/uploads/201...   \n",
      "6      7Pa_Weidt08     6.6  https://hydramovies.com/wp-content/uploads/201...   \n",
      "7      s54vpKAFmS0     7.2  https://hydramovies.com/wp-content/uploads/201...   \n",
      "8      5hfAExhHTMM     8.1  https://hydramovies.com/wp-content/uploads/201...   \n",
      "9      E9Qv_XVJ-js     7.4  https://hydramovies.com/wp-content/uploads/201...   \n",
      "10     3vqcMr1q5Uc     6.4  https://hydramovies.com/wp-content/uploads/201...   \n",
      "11     kYYINJM3lPA     7.5  https://hydramovies.com/wp-content/uploads/201...   \n",
      "12     hpyxmT6KSvw     7.5  https://hydramovies.com/wp-content/uploads/201...   \n",
      "13     eMVw1pHVMAw     7.3  https://hydramovies.com/wp-content/uploads/201...   \n",
      "14     cA6BUYVkQoE     7.5  https://hydramovies.com/wp-content/uploads/201...   \n",
      "\n",
      "               Director               Writers  \\\n",
      "0     Bobcat Goldthwait         Patton Oswalt   \n",
      "1         Greg Whiteley           Arthur Kane   \n",
      "2            Tony Craig           Thomas Hart   \n",
      "3        Jamie Mitchell           Thomas Hart   \n",
      "4       Vincent Grashaw           Brett Haley   \n",
      "5      Douglas McCarthy  Scott Spencer Gorden   \n",
      "6            Will Gluck            Rob Lieber   \n",
      "7     Christophe Honoré     Christophe Honoré   \n",
      "8          Dave Stewart             Lee Dixon   \n",
      "9        Markus Imboden       Plinio Bachmann   \n",
      "10  Bethany Ashton Wolf   Bethany Ashton Wolf   \n",
      "11            Jay Karas            Tom Segura   \n",
      "12         David Briggs      Marcus du Sautoy   \n",
      "13     Brittany Goodwin      Brittany Goodwin   \n",
      "14     Piotr Domalewski      Piotr Domalewski   \n",
      "\n",
      "                                                Cast  \n",
      "0                                      Patton Oswalt  \n",
      "1                                    Sylvain Sylvain  \n",
      "2                     Carlos Alazraqui|Wayne Allwine  \n",
      "3                         Tony Anselmo|Wayne Allwine  \n",
      "4                           Arman Darbo|Sawyer Barth  \n",
      "5             Bill Farmer|Jason Marsden|Jeff Bennett  \n",
      "6                         Fayssal Bazzi|James Corden  \n",
      "7       Clotilde Hesme|Louis Garrel|Ludivine Sagnier  \n",
      "8                                         Ian Wright  \n",
      "9   Katja Riemann|Maximilian Simonischek|Stefan Kurt  \n",
      "10         Abby Ryder Fortson|Alex Roe|Jessica Rothe  \n",
      "11                                        Tom Segura  \n",
      "12                                               NaN  \n",
      "13           Hollie Shay|Kyle Kupecky|Vincent Seidle  \n",
      "14    Agnieszka Suchora|Dawid Ogrodnik|Tomasz Zietek  \n"
     ]
    }
   ],
   "source": [
    "import numpy as np\n",
    "import pandas as pd\n",
    "import chardet\n",
    "import scipy.stats as stats\n",
    "\n",
    "# Load the dataset\n",
    "file_path = 'Hydra-Movie-Scrape.csv'\n",
    "\n",
    "# Read file in binary to detect the encoding\n",
    "with open(file_path, 'rb') as file:\n",
    "    raw_data = file.read(100000)  # Read only the first 100,000 bytes or we risk exceeding data rate limit\n",
    "\n",
    "# Detect the encoding used\n",
    "result = chardet.detect(raw_data)\n",
    "encoding = result['encoding']\n",
    "\n",
    "# Load the CSV file and apply the detected encoding\n",
    "df = pd.read_csv(file_path, encoding=encoding)\n",
    "\n",
    "# Examine the dataset to identify columns with missing values and outliers.\n",
    "# Display the first few rows of the pandas dataframe\n",
    "print(df.head(15))"
   ]
  },
  {
   "cell_type": "code",
   "execution_count": 3,
   "id": "7342a8cd-0bb3-4a5d-b26e-2924643bf7e5",
   "metadata": {
    "execution": {
     "iopub.execute_input": "2024-08-10T23:04:14.112553Z",
     "iopub.status.busy": "2024-08-10T23:04:14.111556Z",
     "iopub.status.idle": "2024-08-10T23:04:14.117954Z",
     "shell.execute_reply": "2024-08-10T23:04:14.117954Z",
     "shell.execute_reply.started": "2024-08-10T23:04:14.111556Z"
    }
   },
   "outputs": [
    {
     "name": "stdout",
     "output_type": "stream",
     "text": [
      "\n",
      "The dataset shape before splitting:\n"
     ]
    },
    {
     "data": {
      "text/plain": [
       "(3940, 13)"
      ]
     },
     "execution_count": 3,
     "metadata": {},
     "output_type": "execute_result"
    }
   ],
   "source": [
    "print('\\nThe dataset shape before splitting:')\n",
    "df.shape"
   ]
  },
  {
   "cell_type": "code",
   "execution_count": 4,
   "id": "2c5ecd09-63ce-49f2-926a-767738f68bad",
   "metadata": {
    "execution": {
     "iopub.execute_input": "2024-08-10T23:04:17.432842Z",
     "iopub.status.busy": "2024-08-10T23:04:17.432842Z",
     "iopub.status.idle": "2024-08-10T23:04:17.437259Z",
     "shell.execute_reply": "2024-08-10T23:04:17.437259Z",
     "shell.execute_reply.started": "2024-08-10T23:04:17.432842Z"
    }
   },
   "outputs": [
    {
     "name": "stdout",
     "output_type": "stream",
     "text": [
      "\n",
      "The dataset shape after randomly reducing:\n",
      "(1000, 13)\n"
     ]
    }
   ],
   "source": [
    "#Reduce Dataset down to 1000 rows:\n",
    "\n",
    "# Step 1: Sample 1000 random rows from the original dataset\n",
    "df_sampled = df.sample(n=1000, random_state=42)  # random_state ensures reproducibility\n",
    "\n",
    "print('\\nThe dataset shape after randomly reducing:')\n",
    "print(df_sampled.shape)\n"
   ]
  },
  {
   "cell_type": "code",
   "execution_count": null,
   "id": "a51267f6-248e-4aa6-8346-ed94e79ff5cc",
   "metadata": {},
   "outputs": [],
   "source": []
  },
  {
   "cell_type": "markdown",
   "id": "42b460dc-cb8f-4b02-b473-700a0cfd66c2",
   "metadata": {},
   "source": [
    "**Perform Data Cleaning on the Reduced Hydra-Movie dataset(1000 rows)**"
   ]
  },
  {
   "cell_type": "code",
   "execution_count": 5,
   "id": "99db25e3-5714-499c-9cf0-12deae4cc46d",
   "metadata": {
    "execution": {
     "iopub.execute_input": "2024-08-10T23:04:26.437123Z",
     "iopub.status.busy": "2024-08-10T23:04:26.436127Z",
     "iopub.status.idle": "2024-08-10T23:04:26.444284Z",
     "shell.execute_reply": "2024-08-10T23:04:26.444284Z",
     "shell.execute_reply.started": "2024-08-10T23:04:26.437123Z"
    }
   },
   "outputs": [
    {
     "name": "stdout",
     "output_type": "stream",
     "text": [
      "<class 'pandas.core.frame.DataFrame'>\n",
      "Index: 1000 entries, 3575 to 879\n",
      "Data columns (total 13 columns):\n",
      " #   Column           Non-Null Count  Dtype  \n",
      "---  ------           --------------  -----  \n",
      " 0   Title            1000 non-null   object \n",
      " 1   Year             1000 non-null   int64  \n",
      " 2   Summary          998 non-null    object \n",
      " 3   Short Summary    1000 non-null   object \n",
      " 4   Genres           1000 non-null   object \n",
      " 5   IMDB ID          1000 non-null   object \n",
      " 6   Runtime          1000 non-null   int64  \n",
      " 7   YouTube Trailer  985 non-null    object \n",
      " 8   Rating           1000 non-null   float64\n",
      " 9   Movie Poster     1000 non-null   object \n",
      " 10  Director         1000 non-null   object \n",
      " 11  Writers          995 non-null    object \n",
      " 12  Cast             991 non-null    object \n",
      "dtypes: float64(1), int64(2), object(10)\n",
      "memory usage: 109.4+ KB\n"
     ]
    }
   ],
   "source": [
    "# Display info about the dataframe\n",
    "df_sampled.info()"
   ]
  },
  {
   "cell_type": "code",
   "execution_count": null,
   "id": "4cc85b0b-d4fa-48a6-8349-441c4df6dd06",
   "metadata": {},
   "outputs": [],
   "source": []
  },
  {
   "cell_type": "markdown",
   "id": "ee0eaa49-9973-4aad-8ebc-916e72c5c4c9",
   "metadata": {},
   "source": [
    "**Handle Data Inconsistencies**\n",
    "\n",
    "Normalize the field \"IMDB ID\" to remove leading \"tt\" or \"tt0\" chars so that primary dataset will match same field in secondary dataset"
   ]
  },
  {
   "cell_type": "code",
   "execution_count": 6,
   "id": "15fc1ad2-e806-4baa-9683-c99fdd000f81",
   "metadata": {
    "execution": {
     "iopub.execute_input": "2024-08-10T23:04:32.842934Z",
     "iopub.status.busy": "2024-08-10T23:04:32.841937Z",
     "iopub.status.idle": "2024-08-10T23:04:32.848006Z",
     "shell.execute_reply": "2024-08-10T23:04:32.848006Z",
     "shell.execute_reply.started": "2024-08-10T23:04:32.842934Z"
    }
   },
   "outputs": [
    {
     "name": "stdout",
     "output_type": "stream",
     "text": [
      "      IMDB ID\n",
      "3575   466875\n",
      "733   1422020\n",
      "196   2321405\n",
      "869   1741273\n",
      "2717  1591479\n"
     ]
    }
   ],
   "source": [
    "# Normalize the field \"IMDB ID\"\n",
    "\n",
    "#to remove leading \"tt\" or \"tt0\" chars so that primary dataset will match same field \n",
    "# in secondary dataset\n",
    "\n",
    "# Remove leading \"tt\" or \"tt0\" from IMDB ID\n",
    "df_sampled['IMDB ID'] = df_sampled['IMDB ID'].str.replace(r'^tt0?', '', regex=True)\n",
    "\n",
    "# Verify the update to IMDB ID\n",
    "print(df_sampled[['IMDB ID']].head())"
   ]
  },
  {
   "cell_type": "code",
   "execution_count": null,
   "id": "d34bd925-a3d8-4ef8-acb0-570a64fcad06",
   "metadata": {},
   "outputs": [],
   "source": []
  },
  {
   "cell_type": "markdown",
   "id": "cbf55148-133e-47f0-ab53-1c3da0159ba3",
   "metadata": {},
   "source": [
    "**Handle Missing Data**"
   ]
  },
  {
   "cell_type": "code",
   "execution_count": 7,
   "id": "59dde3f6-173b-41bf-b9b6-b8503283145d",
   "metadata": {
    "execution": {
     "iopub.execute_input": "2024-08-10T23:04:39.054826Z",
     "iopub.status.busy": "2024-08-10T23:04:39.053830Z",
     "iopub.status.idle": "2024-08-10T23:04:39.059365Z",
     "shell.execute_reply": "2024-08-10T23:04:39.059365Z",
     "shell.execute_reply.started": "2024-08-10T23:04:39.054826Z"
    }
   },
   "outputs": [
    {
     "name": "stdout",
     "output_type": "stream",
     "text": [
      "\n",
      "Percentage Missing Values:\n",
      "Title              0.000\n",
      "Year               0.000\n",
      "Summary            0.002\n",
      "Short Summary      0.000\n",
      "Genres             0.000\n",
      "IMDB ID            0.000\n",
      "Runtime            0.000\n",
      "YouTube Trailer    0.015\n",
      "Rating             0.000\n",
      "Movie Poster       0.000\n",
      "Director           0.000\n",
      "Writers            0.005\n",
      "Cast               0.009\n",
      "dtype: float64\n"
     ]
    }
   ],
   "source": [
    "# Examing missing values:\n",
    "\n",
    "# Print missing values percentages:\n",
    "missing_ratio = df_sampled.isnull().mean()\n",
    "print(\"\\nPercentage Missing Values:\")\n",
    "print(missing_ratio)"
   ]
  },
  {
   "cell_type": "markdown",
   "id": "a5b7214e-6352-42b2-ab5e-cd7a49457fa4",
   "metadata": {},
   "source": [
    "> <ins>Note:</ins> Since there are virutally no Nan's in the dataset we will move on."
   ]
  },
  {
   "cell_type": "code",
   "execution_count": null,
   "id": "7ce11a2f-d8bb-4945-8fe0-69b6a5c921a9",
   "metadata": {},
   "outputs": [],
   "source": []
  },
  {
   "cell_type": "markdown",
   "id": "5536b864-cd02-42b7-83ba-ac7043a8540d",
   "metadata": {},
   "source": [
    "**Handle Duplicates**"
   ]
  },
  {
   "cell_type": "code",
   "execution_count": 8,
   "id": "944daa70-5c7e-421f-8d2e-120971579d1a",
   "metadata": {
    "execution": {
     "iopub.execute_input": "2024-08-10T23:05:56.134925Z",
     "iopub.status.busy": "2024-08-10T23:05:56.134925Z",
     "iopub.status.idle": "2024-08-10T23:05:56.148315Z",
     "shell.execute_reply": "2024-08-10T23:05:56.148315Z",
     "shell.execute_reply.started": "2024-08-10T23:05:56.134925Z"
    }
   },
   "outputs": [
    {
     "name": "stdout",
     "output_type": "stream",
     "text": [
      "Number of duplicate rows: 0\n"
     ]
    }
   ],
   "source": [
    "# Check if duplicates exist\n",
    "\n",
    "# Identify duplicate rows\n",
    "duplicates = df_sampled.duplicated()\n",
    "\n",
    "# Count the number of duplicates\n",
    "num_duplicates = duplicates.sum()\n",
    "\n",
    "# Display the number of duplicates\n",
    "print(f'Number of duplicate rows: {num_duplicates}')"
   ]
  },
  {
   "cell_type": "markdown",
   "id": "63f5dfe0-cea6-4b27-80a2-0a691369d4b1",
   "metadata": {},
   "source": [
    "> <ins>Note:</ins> Since there are no duplicates, we will move on."
   ]
  },
  {
   "cell_type": "code",
   "execution_count": null,
   "id": "a67c1153-9498-424b-94a4-46b192a7039f",
   "metadata": {},
   "outputs": [],
   "source": []
  },
  {
   "cell_type": "markdown",
   "id": "2b6f9d79-de3f-449a-b466-4f5d7914a292",
   "metadata": {},
   "source": [
    "**Handle Outliers**"
   ]
  },
  {
   "cell_type": "code",
   "execution_count": 9,
   "id": "49ec2c6f-c91e-4fc5-9542-5a6130f112ce",
   "metadata": {
    "execution": {
     "iopub.execute_input": "2024-08-10T23:07:08.578797Z",
     "iopub.status.busy": "2024-08-10T23:07:08.578797Z",
     "iopub.status.idle": "2024-08-10T23:07:08.606178Z",
     "shell.execute_reply": "2024-08-10T23:07:08.606178Z",
     "shell.execute_reply.started": "2024-08-10T23:07:08.578797Z"
    }
   },
   "outputs": [
    {
     "name": "stdout",
     "output_type": "stream",
     "text": [
      "\n",
      "Data Distributions:\n",
      "         Year  Runtime  Rating\n",
      "count 1000.00  1000.00 1000.00\n",
      "mean  2012.08   100.96    6.60\n",
      "std      4.87    30.43    0.88\n",
      "min   2000.00     0.00    1.70\n",
      "25%   2009.00    92.00    6.10\n",
      "50%   2013.00   102.00    6.60\n",
      "75%   2016.00   115.00    7.20\n",
      "max   2018.00   338.00    9.00\n",
      "\n",
      "Objects-Categorical Variables:\n",
      "                   Title                                            Summary  \\\n",
      "count               1000                                                998   \n",
      "unique              1000                                                998   \n",
      "top     Left in Darkness  A young woman, whose mother died giving birth ...   \n",
      "freq                   1                                                  1   \n",
      "\n",
      "                                            Short Summary Genres IMDB ID  \\\n",
      "count                                                1000   1000    1000   \n",
      "unique                                               1000    384    1000   \n",
      "top     A young woman, whose mother died giving birth ...  Drama  466875   \n",
      "freq                                                    1     35       1   \n",
      "\n",
      "       YouTube Trailer                                       Movie Poster  \\\n",
      "count              985                                               1000   \n",
      "unique             985                                               1000   \n",
      "top        eABWfWuSYpc  https://hydramovies.com/wp-content/uploads/201...   \n",
      "freq                 1                                                  1   \n",
      "\n",
      "              Director       Writers  \\\n",
      "count             1000           995   \n",
      "unique             830           905   \n",
      "top     Clint Eastwood  Chris Morgan   \n",
      "freq                 6             6   \n",
      "\n",
      "                                             Cast  \n",
      "count                                         991  \n",
      "unique                                        978  \n",
      "top     Daniel Radcliffe|Emma Watson|Rupert Grint  \n",
      "freq                                            3  \n"
     ]
    }
   ],
   "source": [
    "# Set the global display format for floating-point numbers\n",
    "pd.options.display.float_format = '{:.2f}'.format\n",
    "\n",
    "# Examine the distributions\n",
    "print(\"\\nData Distributions:\")\n",
    "print(df_sampled.describe())\n",
    "print(\"\\nObjects-Categorical Variables:\")\n",
    "print(df_sampled.describe(include=['object','string']))"
   ]
  },
  {
   "cell_type": "markdown",
   "id": "91c4e121-a0e9-43ec-94f0-7cdc8e81ca3c",
   "metadata": {},
   "source": [
    "> <ins>Note:</ins> Descriptive Stats shows us that the Min value for Runtime is 0 which should not be the case. Further\n",
    "investigation shows 193 records where Runtime = 0 :"
   ]
  },
  {
   "cell_type": "code",
   "execution_count": 10,
   "id": "1982c858-9bd5-49ed-bf4e-f291e26d49e6",
   "metadata": {
    "execution": {
     "iopub.execute_input": "2024-08-10T23:09:03.502192Z",
     "iopub.status.busy": "2024-08-10T23:09:03.502192Z",
     "iopub.status.idle": "2024-08-10T23:09:03.506235Z",
     "shell.execute_reply": "2024-08-10T23:09:03.506235Z",
     "shell.execute_reply.started": "2024-08-10T23:09:03.502192Z"
    }
   },
   "outputs": [
    {
     "name": "stdout",
     "output_type": "stream",
     "text": [
      "The number of records where Runtime is 0: 50\n"
     ]
    }
   ],
   "source": [
    "# Outlier Work\n",
    "\n",
    "# Ensure the 'Runtime' column is numeric\n",
    "df_sampled['Runtime'] = pd.to_numeric(df_sampled['Runtime'], errors='coerce')\n",
    "\n",
    "# Calculate the number of records where Runtime is 0\n",
    "num_runtime_zero = (df_sampled['Runtime'] == 0).sum()\n",
    "\n",
    "# Display the number of records with Runtime = 0\n",
    "print(f'The number of records where Runtime is 0: {num_runtime_zero}')"
   ]
  },
  {
   "cell_type": "code",
   "execution_count": null,
   "id": "764c46cc-b466-4d82-8a2d-e5488bfe611b",
   "metadata": {},
   "outputs": [],
   "source": []
  },
  {
   "cell_type": "markdown",
   "id": "9760f423-c61a-49cb-b27c-950fc407a1d9",
   "metadata": {},
   "source": [
    "**Use Imputation to update those records with Average Runtime instead:**"
   ]
  },
  {
   "cell_type": "code",
   "execution_count": 11,
   "id": "6a86502c-0aad-4075-a3dd-54345606537a",
   "metadata": {
    "execution": {
     "iopub.execute_input": "2024-08-10T23:12:48.517113Z",
     "iopub.status.busy": "2024-08-10T23:12:48.516116Z",
     "iopub.status.idle": "2024-08-10T23:12:48.521689Z",
     "shell.execute_reply": "2024-08-10T23:12:48.521689Z",
     "shell.execute_reply.started": "2024-08-10T23:12:48.517113Z"
    }
   },
   "outputs": [
    {
     "name": "stdout",
     "output_type": "stream",
     "text": [
      "The rounded average runtime of all non-zero movies is: 106 minutes\n"
     ]
    }
   ],
   "source": [
    "# Since Runtime is an int, calculate the average runtime of non-zero values and round to the nearest integer\n",
    "average_runtime_non_zero = round(df_sampled[df_sampled['Runtime'] != 0]['Runtime'].mean())\n",
    "\n",
    "# Display the rounded average runtime\n",
    "print(f'The rounded average runtime of all non-zero movies is: {average_runtime_non_zero} minutes')"
   ]
  },
  {
   "cell_type": "code",
   "execution_count": 12,
   "id": "6f2bacc4-035f-4469-b75f-fea8af0c3dcd",
   "metadata": {
    "execution": {
     "iopub.execute_input": "2024-08-10T23:14:28.423703Z",
     "iopub.status.busy": "2024-08-10T23:14:28.423703Z",
     "iopub.status.idle": "2024-08-10T23:14:28.427919Z",
     "shell.execute_reply": "2024-08-10T23:14:28.427919Z",
     "shell.execute_reply.started": "2024-08-10T23:14:28.423703Z"
    }
   },
   "outputs": [
    {
     "name": "stdout",
     "output_type": "stream",
     "text": [
      "The number of records where Runtime is 0 after imputation: 0\n",
      "The average runtime of all movies is now: 106.256 minutes\n"
     ]
    }
   ],
   "source": [
    "# Then we Impute records with zero Runtime values with the average Runtime value:\n",
    "df_sampled.loc[df_sampled['Runtime'] == 0, 'Runtime'] = average_runtime_non_zero\n",
    "\n",
    "# Verify the update\n",
    "num_runtime_zero_after_imputation = (df_sampled['Runtime'] == 0).sum()\n",
    "\n",
    "# Print verification results\n",
    "print(f'The number of records where Runtime is 0 after imputation: {num_runtime_zero_after_imputation}')\n",
    "print(f'The average runtime of all movies is now: {df_sampled[\"Runtime\"].mean()} minutes')"
   ]
  },
  {
   "cell_type": "code",
   "execution_count": 13,
   "id": "f3e2b08e-7499-464b-a15a-633b35929556",
   "metadata": {
    "execution": {
     "iopub.execute_input": "2024-08-10T23:15:12.036096Z",
     "iopub.status.busy": "2024-08-10T23:15:12.036096Z",
     "iopub.status.idle": "2024-08-10T23:15:12.039201Z",
     "shell.execute_reply": "2024-08-10T23:15:12.039201Z",
     "shell.execute_reply.started": "2024-08-10T23:15:12.036096Z"
    }
   },
   "outputs": [],
   "source": [
    "# Lastly, we force the imputed values to go into Runtime as int:\n",
    "df_sampled['Runtime'] = df_sampled['Runtime'].astype(int)"
   ]
  },
  {
   "cell_type": "code",
   "execution_count": null,
   "id": "c40cb35a-f521-425f-83c0-202ce6804586",
   "metadata": {},
   "outputs": [],
   "source": []
  },
  {
   "cell_type": "markdown",
   "id": "d184269c-259a-42a1-adac-0334a6805e7b",
   "metadata": {},
   "source": [
    "**Expand/Explode Genre and Cast into the sampled dataset**\n",
    "\n",
    "Here we expand the dataframe creating new rows for the movies, one new row for each genre and cast member combination."
   ]
  },
  {
   "cell_type": "code",
   "execution_count": 14,
   "id": "40289db4-6396-452b-a345-8d5914383f6a",
   "metadata": {
    "execution": {
     "iopub.execute_input": "2024-08-11T00:12:16.027880Z",
     "iopub.status.busy": "2024-08-11T00:12:16.026889Z",
     "iopub.status.idle": "2024-08-11T00:12:16.066959Z",
     "shell.execute_reply": "2024-08-11T00:12:16.065958Z",
     "shell.execute_reply.started": "2024-08-11T00:12:16.027880Z"
    }
   },
   "outputs": [
    {
     "name": "stdout",
     "output_type": "stream",
     "text": [
      "\n",
      "The reduced dataset shape splitting:\n",
      "(8571, 13)\n"
     ]
    }
   ],
   "source": [
    "# Step 1: Expand the `Genres` and `Cast` columns in the sampled data\n",
    "\n",
    "# Split and explode the Genres column\n",
    "df_sampled['Genres'] = df_sampled['Genres'].str.split('|')\n",
    "df_expanded = df_sampled.explode('Genres')\n",
    "\n",
    "# Split and explode the Cast column\n",
    "df_expanded['Cast'] = df_expanded['Cast'].str.split('|')\n",
    "df_expanded = df_expanded.explode('Cast')\n",
    "\n",
    "# Display the shape of the expanded dataframe\n",
    "print('\\nThe reduced dataset shape splitting:')\n",
    "print(df_expanded.shape)\n",
    "\n",
    "# Continue with further analysis (e.g., one-hot encoding, predictive modeling)"
   ]
  },
  {
   "cell_type": "code",
   "execution_count": 20,
   "id": "511c3df6-719e-4a39-9c4f-f51cf61b082d",
   "metadata": {
    "execution": {
     "iopub.execute_input": "2024-08-11T01:41:35.895616Z",
     "iopub.status.busy": "2024-08-11T01:41:35.894619Z",
     "iopub.status.idle": "2024-08-11T01:41:35.906812Z",
     "shell.execute_reply": "2024-08-11T01:41:35.906812Z",
     "shell.execute_reply.started": "2024-08-11T01:41:35.895616Z"
    }
   },
   "outputs": [
    {
     "data": {
      "text/html": [
       "<div>\n",
       "<style scoped>\n",
       "    .dataframe tbody tr th:only-of-type {\n",
       "        vertical-align: middle;\n",
       "    }\n",
       "\n",
       "    .dataframe tbody tr th {\n",
       "        vertical-align: top;\n",
       "    }\n",
       "\n",
       "    .dataframe thead th {\n",
       "        text-align: right;\n",
       "    }\n",
       "</style>\n",
       "<table border=\"1\" class=\"dataframe\">\n",
       "  <thead>\n",
       "    <tr style=\"text-align: right;\">\n",
       "      <th></th>\n",
       "      <th>Title</th>\n",
       "      <th>Year</th>\n",
       "      <th>Summary</th>\n",
       "      <th>Short Summary</th>\n",
       "      <th>Genres</th>\n",
       "      <th>IMDB ID</th>\n",
       "      <th>Runtime</th>\n",
       "      <th>YouTube Trailer</th>\n",
       "      <th>Rating</th>\n",
       "      <th>Movie Poster</th>\n",
       "      <th>Director</th>\n",
       "      <th>Writers</th>\n",
       "      <th>Cast</th>\n",
       "    </tr>\n",
       "  </thead>\n",
       "  <tbody>\n",
       "    <tr>\n",
       "      <th>3575</th>\n",
       "      <td>Left in Darkness</td>\n",
       "      <td>2006</td>\n",
       "      <td>A young woman, whose mother died giving birth ...</td>\n",
       "      <td>A young woman, whose mother died giving birth ...</td>\n",
       "      <td>Horror</td>\n",
       "      <td>466875</td>\n",
       "      <td>88</td>\n",
       "      <td>eABWfWuSYpc</td>\n",
       "      <td>5.00</td>\n",
       "      <td>https://hydramovies.com/wp-content/uploads/201...</td>\n",
       "      <td>Steven R. Monroe</td>\n",
       "      <td>Philip Daay</td>\n",
       "      <td>David Anders</td>\n",
       "    </tr>\n",
       "    <tr>\n",
       "      <th>3575</th>\n",
       "      <td>Left in Darkness</td>\n",
       "      <td>2006</td>\n",
       "      <td>A young woman, whose mother died giving birth ...</td>\n",
       "      <td>A young woman, whose mother died giving birth ...</td>\n",
       "      <td>Horror</td>\n",
       "      <td>466875</td>\n",
       "      <td>88</td>\n",
       "      <td>eABWfWuSYpc</td>\n",
       "      <td>5.00</td>\n",
       "      <td>https://hydramovies.com/wp-content/uploads/201...</td>\n",
       "      <td>Steven R. Monroe</td>\n",
       "      <td>Philip Daay</td>\n",
       "      <td>Jessica Stroup</td>\n",
       "    </tr>\n",
       "    <tr>\n",
       "      <th>3575</th>\n",
       "      <td>Left in Darkness</td>\n",
       "      <td>2006</td>\n",
       "      <td>A young woman, whose mother died giving birth ...</td>\n",
       "      <td>A young woman, whose mother died giving birth ...</td>\n",
       "      <td>Horror</td>\n",
       "      <td>466875</td>\n",
       "      <td>88</td>\n",
       "      <td>eABWfWuSYpc</td>\n",
       "      <td>5.00</td>\n",
       "      <td>https://hydramovies.com/wp-content/uploads/201...</td>\n",
       "      <td>Steven R. Monroe</td>\n",
       "      <td>Philip Daay</td>\n",
       "      <td>Monica Keena</td>\n",
       "    </tr>\n",
       "    <tr>\n",
       "      <th>3575</th>\n",
       "      <td>Left in Darkness</td>\n",
       "      <td>2006</td>\n",
       "      <td>A young woman, whose mother died giving birth ...</td>\n",
       "      <td>A young woman, whose mother died giving birth ...</td>\n",
       "      <td>Thriller</td>\n",
       "      <td>466875</td>\n",
       "      <td>88</td>\n",
       "      <td>eABWfWuSYpc</td>\n",
       "      <td>5.00</td>\n",
       "      <td>https://hydramovies.com/wp-content/uploads/201...</td>\n",
       "      <td>Steven R. Monroe</td>\n",
       "      <td>Philip Daay</td>\n",
       "      <td>David Anders</td>\n",
       "    </tr>\n",
       "    <tr>\n",
       "      <th>3575</th>\n",
       "      <td>Left in Darkness</td>\n",
       "      <td>2006</td>\n",
       "      <td>A young woman, whose mother died giving birth ...</td>\n",
       "      <td>A young woman, whose mother died giving birth ...</td>\n",
       "      <td>Thriller</td>\n",
       "      <td>466875</td>\n",
       "      <td>88</td>\n",
       "      <td>eABWfWuSYpc</td>\n",
       "      <td>5.00</td>\n",
       "      <td>https://hydramovies.com/wp-content/uploads/201...</td>\n",
       "      <td>Steven R. Monroe</td>\n",
       "      <td>Philip Daay</td>\n",
       "      <td>Jessica Stroup</td>\n",
       "    </tr>\n",
       "    <tr>\n",
       "      <th>...</th>\n",
       "      <td>...</td>\n",
       "      <td>...</td>\n",
       "      <td>...</td>\n",
       "      <td>...</td>\n",
       "      <td>...</td>\n",
       "      <td>...</td>\n",
       "      <td>...</td>\n",
       "      <td>...</td>\n",
       "      <td>...</td>\n",
       "      <td>...</td>\n",
       "      <td>...</td>\n",
       "      <td>...</td>\n",
       "      <td>...</td>\n",
       "    </tr>\n",
       "    <tr>\n",
       "      <th>879</th>\n",
       "      <td>Steve Jobs</td>\n",
       "      <td>2015</td>\n",
       "      <td>His passion and ingenuity have been the drivin...</td>\n",
       "      <td>Steve Jobs takes us behind the scenes of the d...</td>\n",
       "      <td>Drama</td>\n",
       "      <td>2080374</td>\n",
       "      <td>122</td>\n",
       "      <td>aEr6K1bwIVs</td>\n",
       "      <td>7.20</td>\n",
       "      <td>https://hydramovies.com/wp-content/uploads/201...</td>\n",
       "      <td>Danny Boyle</td>\n",
       "      <td>Aaron Sorkin</td>\n",
       "      <td>Michael Fassbender</td>\n",
       "    </tr>\n",
       "    <tr>\n",
       "      <th>879</th>\n",
       "      <td>Steve Jobs</td>\n",
       "      <td>2015</td>\n",
       "      <td>His passion and ingenuity have been the drivin...</td>\n",
       "      <td>Steve Jobs takes us behind the scenes of the d...</td>\n",
       "      <td>Drama</td>\n",
       "      <td>2080374</td>\n",
       "      <td>122</td>\n",
       "      <td>aEr6K1bwIVs</td>\n",
       "      <td>7.20</td>\n",
       "      <td>https://hydramovies.com/wp-content/uploads/201...</td>\n",
       "      <td>Danny Boyle</td>\n",
       "      <td>Aaron Sorkin</td>\n",
       "      <td>Seth Rogen</td>\n",
       "    </tr>\n",
       "    <tr>\n",
       "      <th>879</th>\n",
       "      <td>Steve Jobs</td>\n",
       "      <td>2015</td>\n",
       "      <td>His passion and ingenuity have been the drivin...</td>\n",
       "      <td>Steve Jobs takes us behind the scenes of the d...</td>\n",
       "      <td>History</td>\n",
       "      <td>2080374</td>\n",
       "      <td>122</td>\n",
       "      <td>aEr6K1bwIVs</td>\n",
       "      <td>7.20</td>\n",
       "      <td>https://hydramovies.com/wp-content/uploads/201...</td>\n",
       "      <td>Danny Boyle</td>\n",
       "      <td>Aaron Sorkin</td>\n",
       "      <td>Kate Winslet</td>\n",
       "    </tr>\n",
       "    <tr>\n",
       "      <th>879</th>\n",
       "      <td>Steve Jobs</td>\n",
       "      <td>2015</td>\n",
       "      <td>His passion and ingenuity have been the drivin...</td>\n",
       "      <td>Steve Jobs takes us behind the scenes of the d...</td>\n",
       "      <td>History</td>\n",
       "      <td>2080374</td>\n",
       "      <td>122</td>\n",
       "      <td>aEr6K1bwIVs</td>\n",
       "      <td>7.20</td>\n",
       "      <td>https://hydramovies.com/wp-content/uploads/201...</td>\n",
       "      <td>Danny Boyle</td>\n",
       "      <td>Aaron Sorkin</td>\n",
       "      <td>Michael Fassbender</td>\n",
       "    </tr>\n",
       "    <tr>\n",
       "      <th>879</th>\n",
       "      <td>Steve Jobs</td>\n",
       "      <td>2015</td>\n",
       "      <td>His passion and ingenuity have been the drivin...</td>\n",
       "      <td>Steve Jobs takes us behind the scenes of the d...</td>\n",
       "      <td>History</td>\n",
       "      <td>2080374</td>\n",
       "      <td>122</td>\n",
       "      <td>aEr6K1bwIVs</td>\n",
       "      <td>7.20</td>\n",
       "      <td>https://hydramovies.com/wp-content/uploads/201...</td>\n",
       "      <td>Danny Boyle</td>\n",
       "      <td>Aaron Sorkin</td>\n",
       "      <td>Seth Rogen</td>\n",
       "    </tr>\n",
       "  </tbody>\n",
       "</table>\n",
       "<p>8571 rows × 13 columns</p>\n",
       "</div>"
      ],
      "text/plain": [
       "                 Title  Year  \\\n",
       "3575  Left in Darkness  2006   \n",
       "3575  Left in Darkness  2006   \n",
       "3575  Left in Darkness  2006   \n",
       "3575  Left in Darkness  2006   \n",
       "3575  Left in Darkness  2006   \n",
       "...                ...   ...   \n",
       "879         Steve Jobs  2015   \n",
       "879         Steve Jobs  2015   \n",
       "879         Steve Jobs  2015   \n",
       "879         Steve Jobs  2015   \n",
       "879         Steve Jobs  2015   \n",
       "\n",
       "                                                Summary  \\\n",
       "3575  A young woman, whose mother died giving birth ...   \n",
       "3575  A young woman, whose mother died giving birth ...   \n",
       "3575  A young woman, whose mother died giving birth ...   \n",
       "3575  A young woman, whose mother died giving birth ...   \n",
       "3575  A young woman, whose mother died giving birth ...   \n",
       "...                                                 ...   \n",
       "879   His passion and ingenuity have been the drivin...   \n",
       "879   His passion and ingenuity have been the drivin...   \n",
       "879   His passion and ingenuity have been the drivin...   \n",
       "879   His passion and ingenuity have been the drivin...   \n",
       "879   His passion and ingenuity have been the drivin...   \n",
       "\n",
       "                                          Short Summary    Genres  IMDB ID  \\\n",
       "3575  A young woman, whose mother died giving birth ...    Horror   466875   \n",
       "3575  A young woman, whose mother died giving birth ...    Horror   466875   \n",
       "3575  A young woman, whose mother died giving birth ...    Horror   466875   \n",
       "3575  A young woman, whose mother died giving birth ...  Thriller   466875   \n",
       "3575  A young woman, whose mother died giving birth ...  Thriller   466875   \n",
       "...                                                 ...       ...      ...   \n",
       "879   Steve Jobs takes us behind the scenes of the d...     Drama  2080374   \n",
       "879   Steve Jobs takes us behind the scenes of the d...     Drama  2080374   \n",
       "879   Steve Jobs takes us behind the scenes of the d...   History  2080374   \n",
       "879   Steve Jobs takes us behind the scenes of the d...   History  2080374   \n",
       "879   Steve Jobs takes us behind the scenes of the d...   History  2080374   \n",
       "\n",
       "      Runtime YouTube Trailer  Rating  \\\n",
       "3575       88     eABWfWuSYpc    5.00   \n",
       "3575       88     eABWfWuSYpc    5.00   \n",
       "3575       88     eABWfWuSYpc    5.00   \n",
       "3575       88     eABWfWuSYpc    5.00   \n",
       "3575       88     eABWfWuSYpc    5.00   \n",
       "...       ...             ...     ...   \n",
       "879       122     aEr6K1bwIVs    7.20   \n",
       "879       122     aEr6K1bwIVs    7.20   \n",
       "879       122     aEr6K1bwIVs    7.20   \n",
       "879       122     aEr6K1bwIVs    7.20   \n",
       "879       122     aEr6K1bwIVs    7.20   \n",
       "\n",
       "                                           Movie Poster          Director  \\\n",
       "3575  https://hydramovies.com/wp-content/uploads/201...  Steven R. Monroe   \n",
       "3575  https://hydramovies.com/wp-content/uploads/201...  Steven R. Monroe   \n",
       "3575  https://hydramovies.com/wp-content/uploads/201...  Steven R. Monroe   \n",
       "3575  https://hydramovies.com/wp-content/uploads/201...  Steven R. Monroe   \n",
       "3575  https://hydramovies.com/wp-content/uploads/201...  Steven R. Monroe   \n",
       "...                                                 ...               ...   \n",
       "879   https://hydramovies.com/wp-content/uploads/201...       Danny Boyle   \n",
       "879   https://hydramovies.com/wp-content/uploads/201...       Danny Boyle   \n",
       "879   https://hydramovies.com/wp-content/uploads/201...       Danny Boyle   \n",
       "879   https://hydramovies.com/wp-content/uploads/201...       Danny Boyle   \n",
       "879   https://hydramovies.com/wp-content/uploads/201...       Danny Boyle   \n",
       "\n",
       "           Writers                Cast  \n",
       "3575   Philip Daay        David Anders  \n",
       "3575   Philip Daay      Jessica Stroup  \n",
       "3575   Philip Daay        Monica Keena  \n",
       "3575   Philip Daay        David Anders  \n",
       "3575   Philip Daay      Jessica Stroup  \n",
       "...            ...                 ...  \n",
       "879   Aaron Sorkin  Michael Fassbender  \n",
       "879   Aaron Sorkin          Seth Rogen  \n",
       "879   Aaron Sorkin        Kate Winslet  \n",
       "879   Aaron Sorkin  Michael Fassbender  \n",
       "879   Aaron Sorkin          Seth Rogen  \n",
       "\n",
       "[8571 rows x 13 columns]"
      ]
     },
     "execution_count": 20,
     "metadata": {},
     "output_type": "execute_result"
    }
   ],
   "source": [
    "df_expanded"
   ]
  },
  {
   "cell_type": "markdown",
   "id": "509e1341-643f-4a08-abf4-8321dd229c86",
   "metadata": {},
   "source": [
    "**Save an output CSV before one-hot encoding process, to simplify the visualizations for the EDA process.**"
   ]
  },
  {
   "cell_type": "code",
   "execution_count": 19,
   "id": "f4e294ed-a95f-4fd9-b69c-e48605df3e92",
   "metadata": {
    "execution": {
     "iopub.execute_input": "2024-08-11T01:37:19.249235Z",
     "iopub.status.busy": "2024-08-11T01:37:19.249235Z",
     "iopub.status.idle": "2024-08-11T01:37:19.394228Z",
     "shell.execute_reply": "2024-08-11T01:37:19.394228Z",
     "shell.execute_reply.started": "2024-08-11T01:37:19.249235Z"
    }
   },
   "outputs": [
    {
     "name": "stdout",
     "output_type": "stream",
     "text": [
      "The cleaned data (for EDA process) has been written to Cleaned-Reduced-Movie-Primary_forEDA.csv\n"
     ]
    }
   ],
   "source": [
    "# Write the cleaned data to an output CSV file with UTF-8 BOM encoding \n",
    "\n",
    "output_file_path = 'Cleaned-Reduced-Movie-Primary_forEDA.csv'\n",
    "\n",
    "# Display info about the dataframe\n",
    "df_expanded.to_csv(output_file_path, index=False, encoding='utf-8-sig')\n",
    "\n",
    "print(f'The cleaned data (for EDA process) has been written to {output_file_path}')"
   ]
  },
  {
   "cell_type": "code",
   "execution_count": null,
   "id": "0a7c2bcf-ac24-45e6-a637-7d7b8f8e32ac",
   "metadata": {},
   "outputs": [],
   "source": []
  },
  {
   "cell_type": "markdown",
   "id": "c7f461fe-7cfc-46b7-acdf-e0c6381db0b0",
   "metadata": {},
   "source": [
    "**Apply One-Hot Encoding to the reduced and exploded Movies dataset to allow for further predictive analysis**"
   ]
  },
  {
   "cell_type": "code",
   "execution_count": 15,
   "id": "e3a330e6-12a6-45f3-8312-9f4b237fcbf1",
   "metadata": {
    "execution": {
     "iopub.execute_input": "2024-08-11T00:19:17.490077Z",
     "iopub.status.busy": "2024-08-11T00:19:17.489081Z",
     "iopub.status.idle": "2024-08-11T00:19:17.568833Z",
     "shell.execute_reply": "2024-08-11T00:19:17.567829Z",
     "shell.execute_reply.started": "2024-08-11T00:19:17.490077Z"
    }
   },
   "outputs": [
    {
     "data": {
      "text/html": [
       "<div>\n",
       "<style scoped>\n",
       "    .dataframe tbody tr th:only-of-type {\n",
       "        vertical-align: middle;\n",
       "    }\n",
       "\n",
       "    .dataframe tbody tr th {\n",
       "        vertical-align: top;\n",
       "    }\n",
       "\n",
       "    .dataframe thead th {\n",
       "        text-align: right;\n",
       "    }\n",
       "</style>\n",
       "<table border=\"1\" class=\"dataframe\">\n",
       "  <thead>\n",
       "    <tr style=\"text-align: right;\">\n",
       "      <th></th>\n",
       "      <th>Title</th>\n",
       "      <th>Year</th>\n",
       "      <th>Summary</th>\n",
       "      <th>Short Summary</th>\n",
       "      <th>IMDB ID</th>\n",
       "      <th>Runtime</th>\n",
       "      <th>YouTube Trailer</th>\n",
       "      <th>Rating</th>\n",
       "      <th>Movie Poster</th>\n",
       "      <th>Director</th>\n",
       "      <th>...</th>\n",
       "      <th>Cast_Zack Gold</th>\n",
       "      <th>Cast_Zaira Wasim</th>\n",
       "      <th>Cast_Zane Austin</th>\n",
       "      <th>Cast_Zita Hanrot</th>\n",
       "      <th>Cast_Zoe Kazan</th>\n",
       "      <th>Cast_Zoe Saldana</th>\n",
       "      <th>Cast_Zooey Deschanel</th>\n",
       "      <th>Cast_Zoë Kravitz</th>\n",
       "      <th>Cast_Zuleikha Robinson</th>\n",
       "      <th>Cast_Élodie Bouchez</th>\n",
       "    </tr>\n",
       "  </thead>\n",
       "  <tbody>\n",
       "    <tr>\n",
       "      <th>3575</th>\n",
       "      <td>Left in Darkness</td>\n",
       "      <td>2006</td>\n",
       "      <td>A young woman, whose mother died giving birth ...</td>\n",
       "      <td>A young woman, whose mother died giving birth ...</td>\n",
       "      <td>466875</td>\n",
       "      <td>88</td>\n",
       "      <td>eABWfWuSYpc</td>\n",
       "      <td>5.00</td>\n",
       "      <td>https://hydramovies.com/wp-content/uploads/201...</td>\n",
       "      <td>Steven R. Monroe</td>\n",
       "      <td>...</td>\n",
       "      <td>False</td>\n",
       "      <td>False</td>\n",
       "      <td>False</td>\n",
       "      <td>False</td>\n",
       "      <td>False</td>\n",
       "      <td>False</td>\n",
       "      <td>False</td>\n",
       "      <td>False</td>\n",
       "      <td>False</td>\n",
       "      <td>False</td>\n",
       "    </tr>\n",
       "    <tr>\n",
       "      <th>3575</th>\n",
       "      <td>Left in Darkness</td>\n",
       "      <td>2006</td>\n",
       "      <td>A young woman, whose mother died giving birth ...</td>\n",
       "      <td>A young woman, whose mother died giving birth ...</td>\n",
       "      <td>466875</td>\n",
       "      <td>88</td>\n",
       "      <td>eABWfWuSYpc</td>\n",
       "      <td>5.00</td>\n",
       "      <td>https://hydramovies.com/wp-content/uploads/201...</td>\n",
       "      <td>Steven R. Monroe</td>\n",
       "      <td>...</td>\n",
       "      <td>False</td>\n",
       "      <td>False</td>\n",
       "      <td>False</td>\n",
       "      <td>False</td>\n",
       "      <td>False</td>\n",
       "      <td>False</td>\n",
       "      <td>False</td>\n",
       "      <td>False</td>\n",
       "      <td>False</td>\n",
       "      <td>False</td>\n",
       "    </tr>\n",
       "    <tr>\n",
       "      <th>3575</th>\n",
       "      <td>Left in Darkness</td>\n",
       "      <td>2006</td>\n",
       "      <td>A young woman, whose mother died giving birth ...</td>\n",
       "      <td>A young woman, whose mother died giving birth ...</td>\n",
       "      <td>466875</td>\n",
       "      <td>88</td>\n",
       "      <td>eABWfWuSYpc</td>\n",
       "      <td>5.00</td>\n",
       "      <td>https://hydramovies.com/wp-content/uploads/201...</td>\n",
       "      <td>Steven R. Monroe</td>\n",
       "      <td>...</td>\n",
       "      <td>False</td>\n",
       "      <td>False</td>\n",
       "      <td>False</td>\n",
       "      <td>False</td>\n",
       "      <td>False</td>\n",
       "      <td>False</td>\n",
       "      <td>False</td>\n",
       "      <td>False</td>\n",
       "      <td>False</td>\n",
       "      <td>False</td>\n",
       "    </tr>\n",
       "    <tr>\n",
       "      <th>3575</th>\n",
       "      <td>Left in Darkness</td>\n",
       "      <td>2006</td>\n",
       "      <td>A young woman, whose mother died giving birth ...</td>\n",
       "      <td>A young woman, whose mother died giving birth ...</td>\n",
       "      <td>466875</td>\n",
       "      <td>88</td>\n",
       "      <td>eABWfWuSYpc</td>\n",
       "      <td>5.00</td>\n",
       "      <td>https://hydramovies.com/wp-content/uploads/201...</td>\n",
       "      <td>Steven R. Monroe</td>\n",
       "      <td>...</td>\n",
       "      <td>False</td>\n",
       "      <td>False</td>\n",
       "      <td>False</td>\n",
       "      <td>False</td>\n",
       "      <td>False</td>\n",
       "      <td>False</td>\n",
       "      <td>False</td>\n",
       "      <td>False</td>\n",
       "      <td>False</td>\n",
       "      <td>False</td>\n",
       "    </tr>\n",
       "    <tr>\n",
       "      <th>3575</th>\n",
       "      <td>Left in Darkness</td>\n",
       "      <td>2006</td>\n",
       "      <td>A young woman, whose mother died giving birth ...</td>\n",
       "      <td>A young woman, whose mother died giving birth ...</td>\n",
       "      <td>466875</td>\n",
       "      <td>88</td>\n",
       "      <td>eABWfWuSYpc</td>\n",
       "      <td>5.00</td>\n",
       "      <td>https://hydramovies.com/wp-content/uploads/201...</td>\n",
       "      <td>Steven R. Monroe</td>\n",
       "      <td>...</td>\n",
       "      <td>False</td>\n",
       "      <td>False</td>\n",
       "      <td>False</td>\n",
       "      <td>False</td>\n",
       "      <td>False</td>\n",
       "      <td>False</td>\n",
       "      <td>False</td>\n",
       "      <td>False</td>\n",
       "      <td>False</td>\n",
       "      <td>False</td>\n",
       "    </tr>\n",
       "  </tbody>\n",
       "</table>\n",
       "<p>5 rows × 1794 columns</p>\n",
       "</div>"
      ],
      "text/plain": [
       "                 Title  Year  \\\n",
       "3575  Left in Darkness  2006   \n",
       "3575  Left in Darkness  2006   \n",
       "3575  Left in Darkness  2006   \n",
       "3575  Left in Darkness  2006   \n",
       "3575  Left in Darkness  2006   \n",
       "\n",
       "                                                Summary  \\\n",
       "3575  A young woman, whose mother died giving birth ...   \n",
       "3575  A young woman, whose mother died giving birth ...   \n",
       "3575  A young woman, whose mother died giving birth ...   \n",
       "3575  A young woman, whose mother died giving birth ...   \n",
       "3575  A young woman, whose mother died giving birth ...   \n",
       "\n",
       "                                          Short Summary IMDB ID  Runtime  \\\n",
       "3575  A young woman, whose mother died giving birth ...  466875       88   \n",
       "3575  A young woman, whose mother died giving birth ...  466875       88   \n",
       "3575  A young woman, whose mother died giving birth ...  466875       88   \n",
       "3575  A young woman, whose mother died giving birth ...  466875       88   \n",
       "3575  A young woman, whose mother died giving birth ...  466875       88   \n",
       "\n",
       "     YouTube Trailer  Rating  \\\n",
       "3575     eABWfWuSYpc    5.00   \n",
       "3575     eABWfWuSYpc    5.00   \n",
       "3575     eABWfWuSYpc    5.00   \n",
       "3575     eABWfWuSYpc    5.00   \n",
       "3575     eABWfWuSYpc    5.00   \n",
       "\n",
       "                                           Movie Poster          Director  \\\n",
       "3575  https://hydramovies.com/wp-content/uploads/201...  Steven R. Monroe   \n",
       "3575  https://hydramovies.com/wp-content/uploads/201...  Steven R. Monroe   \n",
       "3575  https://hydramovies.com/wp-content/uploads/201...  Steven R. Monroe   \n",
       "3575  https://hydramovies.com/wp-content/uploads/201...  Steven R. Monroe   \n",
       "3575  https://hydramovies.com/wp-content/uploads/201...  Steven R. Monroe   \n",
       "\n",
       "      ... Cast_Zack Gold  Cast_Zaira Wasim  Cast_Zane Austin  \\\n",
       "3575  ...          False             False             False   \n",
       "3575  ...          False             False             False   \n",
       "3575  ...          False             False             False   \n",
       "3575  ...          False             False             False   \n",
       "3575  ...          False             False             False   \n",
       "\n",
       "      Cast_Zita Hanrot  Cast_Zoe Kazan  Cast_Zoe Saldana  \\\n",
       "3575             False           False             False   \n",
       "3575             False           False             False   \n",
       "3575             False           False             False   \n",
       "3575             False           False             False   \n",
       "3575             False           False             False   \n",
       "\n",
       "      Cast_Zooey Deschanel  Cast_Zoë Kravitz  Cast_Zuleikha Robinson  \\\n",
       "3575                 False             False                   False   \n",
       "3575                 False             False                   False   \n",
       "3575                 False             False                   False   \n",
       "3575                 False             False                   False   \n",
       "3575                 False             False                   False   \n",
       "\n",
       "      Cast_Élodie Bouchez  \n",
       "3575                False  \n",
       "3575                False  \n",
       "3575                False  \n",
       "3575                False  \n",
       "3575                False  \n",
       "\n",
       "[5 rows x 1794 columns]"
      ]
     },
     "execution_count": 15,
     "metadata": {},
     "output_type": "execute_result"
    }
   ],
   "source": [
    "# Apply one-hot encoding to the 'Genres' and 'Cast' columns => tag the various exploded Genre and Cast columns with \n",
    "df_encoded = pd.get_dummies(df_expanded, columns=['Genres', 'Cast'], prefix=['Genre', 'Cast'])\n",
    "\n",
    "# Display the first few rows of the transformed dataframe\n",
    "df_encoded.head()\n"
   ]
  },
  {
   "cell_type": "code",
   "execution_count": 16,
   "id": "0decf29e-f7cf-4833-b7ac-95afbfe8fc6a",
   "metadata": {
    "execution": {
     "iopub.execute_input": "2024-08-11T00:19:28.397158Z",
     "iopub.status.busy": "2024-08-11T00:19:28.397158Z",
     "iopub.status.idle": "2024-08-11T00:19:28.401298Z",
     "shell.execute_reply": "2024-08-11T00:19:28.401298Z",
     "shell.execute_reply.started": "2024-08-11T00:19:28.397158Z"
    }
   },
   "outputs": [
    {
     "name": "stdout",
     "output_type": "stream",
     "text": [
      "\n",
      "The reduced dataset shape after splitting and one-hot encoding:\n"
     ]
    },
    {
     "data": {
      "text/plain": [
       "(8571, 1794)"
      ]
     },
     "execution_count": 16,
     "metadata": {},
     "output_type": "execute_result"
    }
   ],
   "source": [
    "print('\\nThe reduced dataset shape after splitting and one-hot encoding:')\n",
    "df_encoded.shape"
   ]
  },
  {
   "cell_type": "markdown",
   "id": "229b4c0b-2f9e-4149-a2f2-00d7ba581470",
   "metadata": {},
   "source": [
    "> <ins>Note:</ins> As we can see, one-hot encoding has vastly increased the number of columns. "
   ]
  },
  {
   "cell_type": "code",
   "execution_count": 17,
   "id": "eea96e4b-c3b4-4f23-a923-96b578bafa1b",
   "metadata": {
    "execution": {
     "iopub.execute_input": "2024-08-11T00:20:21.714179Z",
     "iopub.status.busy": "2024-08-11T00:20:21.714179Z",
     "iopub.status.idle": "2024-08-11T00:20:21.861693Z",
     "shell.execute_reply": "2024-08-11T00:20:21.861693Z",
     "shell.execute_reply.started": "2024-08-11T00:20:21.714179Z"
    }
   },
   "outputs": [
    {
     "name": "stdout",
     "output_type": "stream",
     "text": [
      "<class 'pandas.core.frame.DataFrame'>\n",
      "Index: 8571 entries, 3575 to 879\n",
      "Columns: 1794 entries, Title to Cast_Élodie Bouchez\n",
      "dtypes: bool(1783), float64(1), int32(1), int64(1), object(8)\n",
      "memory usage: 15.3+ MB\n"
     ]
    }
   ],
   "source": [
    "# Display info about the dataframe\n",
    "df_encoded.info()"
   ]
  },
  {
   "cell_type": "code",
   "execution_count": null,
   "id": "207a9ed1-1a2b-482d-ab57-959109b97fea",
   "metadata": {},
   "outputs": [],
   "source": []
  },
  {
   "cell_type": "markdown",
   "id": "ad147344-386b-436f-9a85-a68e175a68b1",
   "metadata": {},
   "source": [
    "**Write cleaned data to an output CSV file:**"
   ]
  },
  {
   "cell_type": "code",
   "execution_count": 18,
   "id": "2237bd65-3ead-4c00-a1fc-40611869d254",
   "metadata": {
    "execution": {
     "iopub.execute_input": "2024-08-11T01:09:01.247482Z",
     "iopub.status.busy": "2024-08-11T01:09:01.246484Z",
     "iopub.status.idle": "2024-08-11T01:09:03.426908Z",
     "shell.execute_reply": "2024-08-11T01:09:03.426908Z",
     "shell.execute_reply.started": "2024-08-11T01:09:01.247482Z"
    }
   },
   "outputs": [
    {
     "name": "stdout",
     "output_type": "stream",
     "text": [
      "The cleaned data has been written to Cleaned-Reduced-Movie-Primary.csv\n"
     ]
    }
   ],
   "source": [
    "# Write the cleaned data to an output CSV file with UTF-8 BOM encoding\n",
    "\n",
    "output_file_path = 'Cleaned-Reduced-Movie-Primary.csv'\n",
    "\n",
    "# Display info about the dataframe\n",
    "df_encoded.to_csv(output_file_path, index=False, encoding='utf-8-sig')\n",
    "\n",
    "print(f'The cleaned data has been written to {output_file_path}')"
   ]
  },
  {
   "cell_type": "code",
   "execution_count": null,
   "id": "a7cd69ad-e10b-4c9c-bee0-e8e492a5221e",
   "metadata": {},
   "outputs": [],
   "source": []
  },
  {
   "cell_type": "markdown",
   "id": "e19a4665-8564-4879-aaf5-86e1a93bdd67",
   "metadata": {},
   "source": [
    "**Our Target Variable is Movie Rating (column: Rating).**"
   ]
  },
  {
   "cell_type": "code",
   "execution_count": null,
   "id": "fe474d7b-ad7f-47f1-9458-b6890877f365",
   "metadata": {},
   "outputs": [],
   "source": []
  }
 ],
 "metadata": {
  "kernelspec": {
   "display_name": "Python 3 (ipykernel)",
   "language": "python",
   "name": "python3"
  },
  "language_info": {
   "codemirror_mode": {
    "name": "ipython",
    "version": 3
   },
   "file_extension": ".py",
   "mimetype": "text/x-python",
   "name": "python",
   "nbconvert_exporter": "python",
   "pygments_lexer": "ipython3",
   "version": "3.11.5"
  }
 },
 "nbformat": 4,
 "nbformat_minor": 5
}
